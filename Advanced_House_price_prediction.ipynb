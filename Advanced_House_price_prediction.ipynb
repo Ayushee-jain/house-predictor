{
  "nbformat": 4,
  "nbformat_minor": 0,
  "metadata": {
    "colab": {
      "name": "Advanced_House_price_prediction.ipynb",
      "provenance": []
    },
    "kernelspec": {
      "name": "python3",
      "display_name": "Python 3"
    },
    "accelerator": "GPU"
  },
  "cells": [
    {
      "cell_type": "code",
      "metadata": {
        "id": "N2hY8bVeXiiI"
      },
      "source": [
        "! pip install -q kaggle"
      ],
      "execution_count": 1,
      "outputs": []
    },
    {
      "cell_type": "code",
      "metadata": {
        "id": "1aWbH66QXjrs"
      },
      "source": [
        "from google.colab import files"
      ],
      "execution_count": 2,
      "outputs": []
    },
    {
      "cell_type": "code",
      "metadata": {
        "colab": {
          "resources": {
            "http://localhost:8080/nbextensions/google.colab/files.js": {
              "data": "Ly8gQ29weXJpZ2h0IDIwMTcgR29vZ2xlIExMQwovLwovLyBMaWNlbnNlZCB1bmRlciB0aGUgQXBhY2hlIExpY2Vuc2UsIFZlcnNpb24gMi4wICh0aGUgIkxpY2Vuc2UiKTsKLy8geW91IG1heSBub3QgdXNlIHRoaXMgZmlsZSBleGNlcHQgaW4gY29tcGxpYW5jZSB3aXRoIHRoZSBMaWNlbnNlLgovLyBZb3UgbWF5IG9idGFpbiBhIGNvcHkgb2YgdGhlIExpY2Vuc2UgYXQKLy8KLy8gICAgICBodHRwOi8vd3d3LmFwYWNoZS5vcmcvbGljZW5zZXMvTElDRU5TRS0yLjAKLy8KLy8gVW5sZXNzIHJlcXVpcmVkIGJ5IGFwcGxpY2FibGUgbGF3IG9yIGFncmVlZCB0byBpbiB3cml0aW5nLCBzb2Z0d2FyZQovLyBkaXN0cmlidXRlZCB1bmRlciB0aGUgTGljZW5zZSBpcyBkaXN0cmlidXRlZCBvbiBhbiAiQVMgSVMiIEJBU0lTLAovLyBXSVRIT1VUIFdBUlJBTlRJRVMgT1IgQ09ORElUSU9OUyBPRiBBTlkgS0lORCwgZWl0aGVyIGV4cHJlc3Mgb3IgaW1wbGllZC4KLy8gU2VlIHRoZSBMaWNlbnNlIGZvciB0aGUgc3BlY2lmaWMgbGFuZ3VhZ2UgZ292ZXJuaW5nIHBlcm1pc3Npb25zIGFuZAovLyBsaW1pdGF0aW9ucyB1bmRlciB0aGUgTGljZW5zZS4KCi8qKgogKiBAZmlsZW92ZXJ2aWV3IEhlbHBlcnMgZm9yIGdvb2dsZS5jb2xhYiBQeXRob24gbW9kdWxlLgogKi8KKGZ1bmN0aW9uKHNjb3BlKSB7CmZ1bmN0aW9uIHNwYW4odGV4dCwgc3R5bGVBdHRyaWJ1dGVzID0ge30pIHsKICBjb25zdCBlbGVtZW50ID0gZG9jdW1lbnQuY3JlYXRlRWxlbWVudCgnc3BhbicpOwogIGVsZW1lbnQudGV4dENvbnRlbnQgPSB0ZXh0OwogIGZvciAoY29uc3Qga2V5IG9mIE9iamVjdC5rZXlzKHN0eWxlQXR0cmlidXRlcykpIHsKICAgIGVsZW1lbnQuc3R5bGVba2V5XSA9IHN0eWxlQXR0cmlidXRlc1trZXldOwogIH0KICByZXR1cm4gZWxlbWVudDsKfQoKLy8gTWF4IG51bWJlciBvZiBieXRlcyB3aGljaCB3aWxsIGJlIHVwbG9hZGVkIGF0IGEgdGltZS4KY29uc3QgTUFYX1BBWUxPQURfU0laRSA9IDEwMCAqIDEwMjQ7CgpmdW5jdGlvbiBfdXBsb2FkRmlsZXMoaW5wdXRJZCwgb3V0cHV0SWQpIHsKICBjb25zdCBzdGVwcyA9IHVwbG9hZEZpbGVzU3RlcChpbnB1dElkLCBvdXRwdXRJZCk7CiAgY29uc3Qgb3V0cHV0RWxlbWVudCA9IGRvY3VtZW50LmdldEVsZW1lbnRCeUlkKG91dHB1dElkKTsKICAvLyBDYWNoZSBzdGVwcyBvbiB0aGUgb3V0cHV0RWxlbWVudCB0byBtYWtlIGl0IGF2YWlsYWJsZSBmb3IgdGhlIG5leHQgY2FsbAogIC8vIHRvIHVwbG9hZEZpbGVzQ29udGludWUgZnJvbSBQeXRob24uCiAgb3V0cHV0RWxlbWVudC5zdGVwcyA9IHN0ZXBzOwoKICByZXR1cm4gX3VwbG9hZEZpbGVzQ29udGludWUob3V0cHV0SWQpOwp9CgovLyBUaGlzIGlzIHJvdWdobHkgYW4gYXN5bmMgZ2VuZXJhdG9yIChub3Qgc3VwcG9ydGVkIGluIHRoZSBicm93c2VyIHlldCksCi8vIHdoZXJlIHRoZXJlIGFyZSBtdWx0aXBsZSBhc3luY2hyb25vdXMgc3RlcHMgYW5kIHRoZSBQeXRob24gc2lkZSBpcyBnb2luZwovLyB0byBwb2xsIGZvciBjb21wbGV0aW9uIG9mIGVhY2ggc3RlcC4KLy8gVGhpcyB1c2VzIGEgUHJvbWlzZSB0byBibG9jayB0aGUgcHl0aG9uIHNpZGUgb24gY29tcGxldGlvbiBvZiBlYWNoIHN0ZXAsCi8vIHRoZW4gcGFzc2VzIHRoZSByZXN1bHQgb2YgdGhlIHByZXZpb3VzIHN0ZXAgYXMgdGhlIGlucHV0IHRvIHRoZSBuZXh0IHN0ZXAuCmZ1bmN0aW9uIF91cGxvYWRGaWxlc0NvbnRpbnVlKG91dHB1dElkKSB7CiAgY29uc3Qgb3V0cHV0RWxlbWVudCA9IGRvY3VtZW50LmdldEVsZW1lbnRCeUlkKG91dHB1dElkKTsKICBjb25zdCBzdGVwcyA9IG91dHB1dEVsZW1lbnQuc3RlcHM7CgogIGNvbnN0IG5leHQgPSBzdGVwcy5uZXh0KG91dHB1dEVsZW1lbnQubGFzdFByb21pc2VWYWx1ZSk7CiAgcmV0dXJuIFByb21pc2UucmVzb2x2ZShuZXh0LnZhbHVlLnByb21pc2UpLnRoZW4oKHZhbHVlKSA9PiB7CiAgICAvLyBDYWNoZSB0aGUgbGFzdCBwcm9taXNlIHZhbHVlIHRvIG1ha2UgaXQgYXZhaWxhYmxlIHRvIHRoZSBuZXh0CiAgICAvLyBzdGVwIG9mIHRoZSBnZW5lcmF0b3IuCiAgICBvdXRwdXRFbGVtZW50Lmxhc3RQcm9taXNlVmFsdWUgPSB2YWx1ZTsKICAgIHJldHVybiBuZXh0LnZhbHVlLnJlc3BvbnNlOwogIH0pOwp9CgovKioKICogR2VuZXJhdG9yIGZ1bmN0aW9uIHdoaWNoIGlzIGNhbGxlZCBiZXR3ZWVuIGVhY2ggYXN5bmMgc3RlcCBvZiB0aGUgdXBsb2FkCiAqIHByb2Nlc3MuCiAqIEBwYXJhbSB7c3RyaW5nfSBpbnB1dElkIEVsZW1lbnQgSUQgb2YgdGhlIGlucHV0IGZpbGUgcGlja2VyIGVsZW1lbnQuCiAqIEBwYXJhbSB7c3RyaW5nfSBvdXRwdXRJZCBFbGVtZW50IElEIG9mIHRoZSBvdXRwdXQgZGlzcGxheS4KICogQHJldHVybiB7IUl0ZXJhYmxlPCFPYmplY3Q+fSBJdGVyYWJsZSBvZiBuZXh0IHN0ZXBzLgogKi8KZnVuY3Rpb24qIHVwbG9hZEZpbGVzU3RlcChpbnB1dElkLCBvdXRwdXRJZCkgewogIGNvbnN0IGlucHV0RWxlbWVudCA9IGRvY3VtZW50LmdldEVsZW1lbnRCeUlkKGlucHV0SWQpOwogIGlucHV0RWxlbWVudC5kaXNhYmxlZCA9IGZhbHNlOwoKICBjb25zdCBvdXRwdXRFbGVtZW50ID0gZG9jdW1lbnQuZ2V0RWxlbWVudEJ5SWQob3V0cHV0SWQpOwogIG91dHB1dEVsZW1lbnQuaW5uZXJIVE1MID0gJyc7CgogIGNvbnN0IHBpY2tlZFByb21pc2UgPSBuZXcgUHJvbWlzZSgocmVzb2x2ZSkgPT4gewogICAgaW5wdXRFbGVtZW50LmFkZEV2ZW50TGlzdGVuZXIoJ2NoYW5nZScsIChlKSA9PiB7CiAgICAgIHJlc29sdmUoZS50YXJnZXQuZmlsZXMpOwogICAgfSk7CiAgfSk7CgogIGNvbnN0IGNhbmNlbCA9IGRvY3VtZW50LmNyZWF0ZUVsZW1lbnQoJ2J1dHRvbicpOwogIGlucHV0RWxlbWVudC5wYXJlbnRFbGVtZW50LmFwcGVuZENoaWxkKGNhbmNlbCk7CiAgY2FuY2VsLnRleHRDb250ZW50ID0gJ0NhbmNlbCB1cGxvYWQnOwogIGNvbnN0IGNhbmNlbFByb21pc2UgPSBuZXcgUHJvbWlzZSgocmVzb2x2ZSkgPT4gewogICAgY2FuY2VsLm9uY2xpY2sgPSAoKSA9PiB7CiAgICAgIHJlc29sdmUobnVsbCk7CiAgICB9OwogIH0pOwoKICAvLyBXYWl0IGZvciB0aGUgdXNlciB0byBwaWNrIHRoZSBmaWxlcy4KICBjb25zdCBmaWxlcyA9IHlpZWxkIHsKICAgIHByb21pc2U6IFByb21pc2UucmFjZShbcGlja2VkUHJvbWlzZSwgY2FuY2VsUHJvbWlzZV0pLAogICAgcmVzcG9uc2U6IHsKICAgICAgYWN0aW9uOiAnc3RhcnRpbmcnLAogICAgfQogIH07CgogIGNhbmNlbC5yZW1vdmUoKTsKCiAgLy8gRGlzYWJsZSB0aGUgaW5wdXQgZWxlbWVudCBzaW5jZSBmdXJ0aGVyIHBpY2tzIGFyZSBub3QgYWxsb3dlZC4KICBpbnB1dEVsZW1lbnQuZGlzYWJsZWQgPSB0cnVlOwoKICBpZiAoIWZpbGVzKSB7CiAgICByZXR1cm4gewogICAgICByZXNwb25zZTogewogICAgICAgIGFjdGlvbjogJ2NvbXBsZXRlJywKICAgICAgfQogICAgfTsKICB9CgogIGZvciAoY29uc3QgZmlsZSBvZiBmaWxlcykgewogICAgY29uc3QgbGkgPSBkb2N1bWVudC5jcmVhdGVFbGVtZW50KCdsaScpOwogICAgbGkuYXBwZW5kKHNwYW4oZmlsZS5uYW1lLCB7Zm9udFdlaWdodDogJ2JvbGQnfSkpOwogICAgbGkuYXBwZW5kKHNwYW4oCiAgICAgICAgYCgke2ZpbGUudHlwZSB8fCAnbi9hJ30pIC0gJHtmaWxlLnNpemV9IGJ5dGVzLCBgICsKICAgICAgICBgbGFzdCBtb2RpZmllZDogJHsKICAgICAgICAgICAgZmlsZS5sYXN0TW9kaWZpZWREYXRlID8gZmlsZS5sYXN0TW9kaWZpZWREYXRlLnRvTG9jYWxlRGF0ZVN0cmluZygpIDoKICAgICAgICAgICAgICAgICAgICAgICAgICAgICAgICAgICAgJ24vYSd9IC0gYCkpOwogICAgY29uc3QgcGVyY2VudCA9IHNwYW4oJzAlIGRvbmUnKTsKICAgIGxpLmFwcGVuZENoaWxkKHBlcmNlbnQpOwoKICAgIG91dHB1dEVsZW1lbnQuYXBwZW5kQ2hpbGQobGkpOwoKICAgIGNvbnN0IGZpbGVEYXRhUHJvbWlzZSA9IG5ldyBQcm9taXNlKChyZXNvbHZlKSA9PiB7CiAgICAgIGNvbnN0IHJlYWRlciA9IG5ldyBGaWxlUmVhZGVyKCk7CiAgICAgIHJlYWRlci5vbmxvYWQgPSAoZSkgPT4gewogICAgICAgIHJlc29sdmUoZS50YXJnZXQucmVzdWx0KTsKICAgICAgfTsKICAgICAgcmVhZGVyLnJlYWRBc0FycmF5QnVmZmVyKGZpbGUpOwogICAgfSk7CiAgICAvLyBXYWl0IGZvciB0aGUgZGF0YSB0byBiZSByZWFkeS4KICAgIGxldCBmaWxlRGF0YSA9IHlpZWxkIHsKICAgICAgcHJvbWlzZTogZmlsZURhdGFQcm9taXNlLAogICAgICByZXNwb25zZTogewogICAgICAgIGFjdGlvbjogJ2NvbnRpbnVlJywKICAgICAgfQogICAgfTsKCiAgICAvLyBVc2UgYSBjaHVua2VkIHNlbmRpbmcgdG8gYXZvaWQgbWVzc2FnZSBzaXplIGxpbWl0cy4gU2VlIGIvNjIxMTU2NjAuCiAgICBsZXQgcG9zaXRpb24gPSAwOwogICAgd2hpbGUgKHBvc2l0aW9uIDwgZmlsZURhdGEuYnl0ZUxlbmd0aCkgewogICAgICBjb25zdCBsZW5ndGggPSBNYXRoLm1pbihmaWxlRGF0YS5ieXRlTGVuZ3RoIC0gcG9zaXRpb24sIE1BWF9QQVlMT0FEX1NJWkUpOwogICAgICBjb25zdCBjaHVuayA9IG5ldyBVaW50OEFycmF5KGZpbGVEYXRhLCBwb3NpdGlvbiwgbGVuZ3RoKTsKICAgICAgcG9zaXRpb24gKz0gbGVuZ3RoOwoKICAgICAgY29uc3QgYmFzZTY0ID0gYnRvYShTdHJpbmcuZnJvbUNoYXJDb2RlLmFwcGx5KG51bGwsIGNodW5rKSk7CiAgICAgIHlpZWxkIHsKICAgICAgICByZXNwb25zZTogewogICAgICAgICAgYWN0aW9uOiAnYXBwZW5kJywKICAgICAgICAgIGZpbGU6IGZpbGUubmFtZSwKICAgICAgICAgIGRhdGE6IGJhc2U2NCwKICAgICAgICB9LAogICAgICB9OwogICAgICBwZXJjZW50LnRleHRDb250ZW50ID0KICAgICAgICAgIGAke01hdGgucm91bmQoKHBvc2l0aW9uIC8gZmlsZURhdGEuYnl0ZUxlbmd0aCkgKiAxMDApfSUgZG9uZWA7CiAgICB9CiAgfQoKICAvLyBBbGwgZG9uZS4KICB5aWVsZCB7CiAgICByZXNwb25zZTogewogICAgICBhY3Rpb246ICdjb21wbGV0ZScsCiAgICB9CiAgfTsKfQoKc2NvcGUuZ29vZ2xlID0gc2NvcGUuZ29vZ2xlIHx8IHt9OwpzY29wZS5nb29nbGUuY29sYWIgPSBzY29wZS5nb29nbGUuY29sYWIgfHwge307CnNjb3BlLmdvb2dsZS5jb2xhYi5fZmlsZXMgPSB7CiAgX3VwbG9hZEZpbGVzLAogIF91cGxvYWRGaWxlc0NvbnRpbnVlLAp9Owp9KShzZWxmKTsK",
              "ok": true,
              "headers": [
                [
                  "content-type",
                  "application/javascript"
                ]
              ],
              "status": 200,
              "status_text": ""
            }
          },
          "base_uri": "https://localhost:8080/",
          "height": 90
        },
        "id": "O_aPSEKmXmli",
        "outputId": "b71c17e0-8aa8-48c9-beb6-9b8a7cc41fdb"
      },
      "source": [
        "files.upload()"
      ],
      "execution_count": 3,
      "outputs": [
        {
          "output_type": "display_data",
          "data": {
            "text/html": [
              "\n",
              "     <input type=\"file\" id=\"files-01aa0764-bbd0-452e-b0b4-dae89f68d745\" name=\"files[]\" multiple disabled\n",
              "        style=\"border:none\" />\n",
              "     <output id=\"result-01aa0764-bbd0-452e-b0b4-dae89f68d745\">\n",
              "      Upload widget is only available when the cell has been executed in the\n",
              "      current browser session. Please rerun this cell to enable.\n",
              "      </output>\n",
              "      <script src=\"/nbextensions/google.colab/files.js\"></script> "
            ],
            "text/plain": [
              "<IPython.core.display.HTML object>"
            ]
          },
          "metadata": {
            "tags": []
          }
        },
        {
          "output_type": "stream",
          "text": [
            "Saving kaggle.json to kaggle.json\n"
          ],
          "name": "stdout"
        },
        {
          "output_type": "execute_result",
          "data": {
            "text/plain": [
              "{'kaggle.json': b'{\"username\":\"aayusheejain\",\"key\":\"284022184cab7e04b18dd73ab7a2f6b3\"}'}"
            ]
          },
          "metadata": {
            "tags": []
          },
          "execution_count": 3
        }
      ]
    },
    {
      "cell_type": "code",
      "metadata": {
        "id": "3GE8wXABXpYQ"
      },
      "source": [
        "! mkdir ~/.kaggle"
      ],
      "execution_count": 4,
      "outputs": []
    },
    {
      "cell_type": "code",
      "metadata": {
        "id": "K3-RUre5XuY_"
      },
      "source": [
        "! cp kaggle.json ~/.kaggle/"
      ],
      "execution_count": 5,
      "outputs": []
    },
    {
      "cell_type": "code",
      "metadata": {
        "id": "MHFVxmq_XxPU"
      },
      "source": [
        "! chmod 600 ~/.kaggle/kaggle.json"
      ],
      "execution_count": 6,
      "outputs": []
    },
    {
      "cell_type": "code",
      "metadata": {
        "colab": {
          "base_uri": "https://localhost:8080/"
        },
        "id": "nsxrnzxZX3YQ",
        "outputId": "b30b8f4c-dc12-4c05-a528-818ac59934c6"
      },
      "source": [
        " ! kaggle datasets list"
      ],
      "execution_count": 7,
      "outputs": [
        {
          "output_type": "stream",
          "text": [
            "Warning: Looks like you're using an outdated API Version, please consider updating (server 1.5.10 / client 1.5.4)\n",
            "ref                                                           title                                                size  lastUpdated          downloadCount  \n",
            "------------------------------------------------------------  --------------------------------------------------  -----  -------------------  -------------  \n",
            "utkarshxy/who-worldhealth-statistics-2020-complete            World Health Statistics 2020|Complete|Geo-Analysis    1MB  2021-01-14 18:29:44           5295  \n",
            "arashnic/covid19-case-surveillance-public-use-dataset         Covid-19 Case Surveillance Public Use Dataset        46MB  2020-12-21 02:24:21           2762  \n",
            "gpreda/covid-world-vaccination-progress                       COVID-19 World Vaccination Progress                  27KB  2021-01-22 08:19:53            495  \n",
            "ashkhagan/women-representation-in-city-property-sanfrancisco  Women Representation in City Property SanFrancisco    3KB  2020-12-13 05:18:14            653  \n",
            "google/android-smartphones-high-accuracy-datasets             Android smartphones high accuracy GNSS datasets       1GB  2020-12-23 01:51:11            610  \n",
            "rowhitswami/all-indian-companies-registration-data-1900-2019  Indian Companies Registration Data [1857 - 2020]    112MB  2020-12-12 03:59:01            844  \n",
            "arashnic/mind-news-dataset                                    MIND: Microsoft News Recommendation Dataset          51MB  2020-12-21 00:22:50            282  \n",
            "tapakah68/segmentation-full-body-mads-dataset                 Segmentation Full Body MADS Dataset                 474MB  2021-01-20 18:43:02             12  \n",
            "cdminix/us-drought-meteorological-data                        US Drought & Meteorological Data                    748MB  2021-01-20 21:48:02             29  \n",
            "sakshigoyal7/credit-card-customers                            Credit Card customers                               379KB  2020-11-19 07:38:44          18880  \n",
            "gpreda/pfizer-vaccine-tweets                                  Pfizer Vaccine Tweets                               703KB  2021-01-22 08:20:37           3129  \n",
            "arashnic/hr-analytics-job-change-of-data-scientists           HR Analytics: Job Change of Data Scientists         295KB  2020-12-07 00:25:10           4422  \n",
            "yamaerenay/spotify-dataset-19212020-160k-tracks               Spotify Dataset 1921-2020, 160k+ Tracks              16MB  2020-11-25 21:14:12          16861  \n",
            "sootersaalu/amazon-top-50-bestselling-books-2009-2019         Amazon Top 50 Bestselling Books 2009 - 2019          15KB  2020-10-13 09:39:21          14444  \n",
            "google/tinyquickdraw                                          QuickDraw Sketches                                   11GB  2018-04-18 19:38:04           2754  \n",
            "datasnaek/youtube-new                                         Trending YouTube Video Statistics                   201MB  2019-06-03 00:56:47         124524  \n",
            "zynicide/wine-reviews                                         Wine Reviews                                         51MB  2017-11-27 17:08:04         126172  \n",
            "datasnaek/chess                                               Chess Game Dataset (Lichess)                          3MB  2017-09-04 03:09:09          13886  \n",
            "nasa/kepler-exoplanet-search-results                          Kepler Exoplanet Search Results                       1MB  2017-10-10 18:26:59           5753  \n",
            "rtatman/188-million-us-wildfires                              1.88 Million US Wildfires                           168MB  2020-05-12 21:03:49          12662  \n"
          ],
          "name": "stdout"
        }
      ]
    },
    {
      "cell_type": "code",
      "metadata": {
        "colab": {
          "base_uri": "https://localhost:8080/"
        },
        "id": "Rf9khtfsX6S-",
        "outputId": "106567ab-723a-4598-9ea2-fc2a3741b7e8"
      },
      "source": [
        "! kaggle competitions download -c 'house-prices-advanced-regression-techniques'"
      ],
      "execution_count": 8,
      "outputs": [
        {
          "output_type": "stream",
          "text": [
            "Warning: Looks like you're using an outdated API Version, please consider updating (server 1.5.10 / client 1.5.4)\n",
            "Downloading train.csv to /content\n",
            "  0% 0.00/450k [00:00<?, ?B/s]\n",
            "100% 450k/450k [00:00<00:00, 66.0MB/s]\n",
            "Downloading data_description.txt to /content\n",
            "  0% 0.00/13.1k [00:00<?, ?B/s]\n",
            "100% 13.1k/13.1k [00:00<00:00, 12.4MB/s]\n",
            "Downloading sample_submission.csv to /content\n",
            "  0% 0.00/31.2k [00:00<?, ?B/s]\n",
            "100% 31.2k/31.2k [00:00<00:00, 27.5MB/s]\n",
            "Downloading test.csv to /content\n",
            "  0% 0.00/441k [00:00<?, ?B/s]\n",
            "100% 441k/441k [00:00<00:00, 60.7MB/s]\n"
          ],
          "name": "stdout"
        }
      ]
    },
    {
      "cell_type": "code",
      "metadata": {
        "id": "764lcmEvYAmK"
      },
      "source": [
        "import pandas as pd\r\n",
        "import matplotlib.pyplot as plt\r\n",
        "import numpy as np"
      ],
      "execution_count": 9,
      "outputs": []
    },
    {
      "cell_type": "code",
      "metadata": {
        "id": "rE2lngYjrTdY"
      },
      "source": [
        "train=pd.read_csv('/content/train.csv')\r\n",
        "test=pd.read_csv('/content/test.csv')"
      ],
      "execution_count": 10,
      "outputs": []
    },
    {
      "cell_type": "code",
      "metadata": {
        "colab": {
          "base_uri": "https://localhost:8080/"
        },
        "id": "9LoIb9Fb3AVy",
        "outputId": "54aa381e-11da-4c3d-cfdf-43d574501ca7"
      },
      "source": [
        "train.shape"
      ],
      "execution_count": 129,
      "outputs": [
        {
          "output_type": "execute_result",
          "data": {
            "text/plain": [
              "(1460, 81)"
            ]
          },
          "metadata": {
            "tags": []
          },
          "execution_count": 129
        }
      ]
    },
    {
      "cell_type": "code",
      "metadata": {
        "id": "gs2cN7fGYg7G"
      },
      "source": [
        "data=pd.concat([train,test])"
      ],
      "execution_count": 64,
      "outputs": []
    },
    {
      "cell_type": "code",
      "metadata": {
        "colab": {
          "base_uri": "https://localhost:8080/",
          "height": 244
        },
        "id": "fMFx4i6-Ykmi",
        "outputId": "b0d1dc3b-afbb-4ae5-b4a1-387812a782ba"
      },
      "source": [
        "data.head()"
      ],
      "execution_count": 65,
      "outputs": [
        {
          "output_type": "execute_result",
          "data": {
            "text/html": [
              "<div>\n",
              "<style scoped>\n",
              "    .dataframe tbody tr th:only-of-type {\n",
              "        vertical-align: middle;\n",
              "    }\n",
              "\n",
              "    .dataframe tbody tr th {\n",
              "        vertical-align: top;\n",
              "    }\n",
              "\n",
              "    .dataframe thead th {\n",
              "        text-align: right;\n",
              "    }\n",
              "</style>\n",
              "<table border=\"1\" class=\"dataframe\">\n",
              "  <thead>\n",
              "    <tr style=\"text-align: right;\">\n",
              "      <th></th>\n",
              "      <th>Id</th>\n",
              "      <th>MSSubClass</th>\n",
              "      <th>MSZoning</th>\n",
              "      <th>LotFrontage</th>\n",
              "      <th>LotArea</th>\n",
              "      <th>Street</th>\n",
              "      <th>Alley</th>\n",
              "      <th>LotShape</th>\n",
              "      <th>LandContour</th>\n",
              "      <th>Utilities</th>\n",
              "      <th>LotConfig</th>\n",
              "      <th>LandSlope</th>\n",
              "      <th>Neighborhood</th>\n",
              "      <th>Condition1</th>\n",
              "      <th>Condition2</th>\n",
              "      <th>BldgType</th>\n",
              "      <th>HouseStyle</th>\n",
              "      <th>OverallQual</th>\n",
              "      <th>OverallCond</th>\n",
              "      <th>YearBuilt</th>\n",
              "      <th>YearRemodAdd</th>\n",
              "      <th>RoofStyle</th>\n",
              "      <th>RoofMatl</th>\n",
              "      <th>Exterior1st</th>\n",
              "      <th>Exterior2nd</th>\n",
              "      <th>MasVnrType</th>\n",
              "      <th>MasVnrArea</th>\n",
              "      <th>ExterQual</th>\n",
              "      <th>ExterCond</th>\n",
              "      <th>Foundation</th>\n",
              "      <th>BsmtQual</th>\n",
              "      <th>BsmtCond</th>\n",
              "      <th>BsmtExposure</th>\n",
              "      <th>BsmtFinType1</th>\n",
              "      <th>BsmtFinSF1</th>\n",
              "      <th>BsmtFinType2</th>\n",
              "      <th>BsmtFinSF2</th>\n",
              "      <th>BsmtUnfSF</th>\n",
              "      <th>TotalBsmtSF</th>\n",
              "      <th>Heating</th>\n",
              "      <th>...</th>\n",
              "      <th>CentralAir</th>\n",
              "      <th>Electrical</th>\n",
              "      <th>1stFlrSF</th>\n",
              "      <th>2ndFlrSF</th>\n",
              "      <th>LowQualFinSF</th>\n",
              "      <th>GrLivArea</th>\n",
              "      <th>BsmtFullBath</th>\n",
              "      <th>BsmtHalfBath</th>\n",
              "      <th>FullBath</th>\n",
              "      <th>HalfBath</th>\n",
              "      <th>BedroomAbvGr</th>\n",
              "      <th>KitchenAbvGr</th>\n",
              "      <th>KitchenQual</th>\n",
              "      <th>TotRmsAbvGrd</th>\n",
              "      <th>Functional</th>\n",
              "      <th>Fireplaces</th>\n",
              "      <th>FireplaceQu</th>\n",
              "      <th>GarageType</th>\n",
              "      <th>GarageYrBlt</th>\n",
              "      <th>GarageFinish</th>\n",
              "      <th>GarageCars</th>\n",
              "      <th>GarageArea</th>\n",
              "      <th>GarageQual</th>\n",
              "      <th>GarageCond</th>\n",
              "      <th>PavedDrive</th>\n",
              "      <th>WoodDeckSF</th>\n",
              "      <th>OpenPorchSF</th>\n",
              "      <th>EnclosedPorch</th>\n",
              "      <th>3SsnPorch</th>\n",
              "      <th>ScreenPorch</th>\n",
              "      <th>PoolArea</th>\n",
              "      <th>PoolQC</th>\n",
              "      <th>Fence</th>\n",
              "      <th>MiscFeature</th>\n",
              "      <th>MiscVal</th>\n",
              "      <th>MoSold</th>\n",
              "      <th>YrSold</th>\n",
              "      <th>SaleType</th>\n",
              "      <th>SaleCondition</th>\n",
              "      <th>SalePrice</th>\n",
              "    </tr>\n",
              "  </thead>\n",
              "  <tbody>\n",
              "    <tr>\n",
              "      <th>0</th>\n",
              "      <td>1</td>\n",
              "      <td>60</td>\n",
              "      <td>RL</td>\n",
              "      <td>65.0</td>\n",
              "      <td>8450</td>\n",
              "      <td>Pave</td>\n",
              "      <td>NaN</td>\n",
              "      <td>Reg</td>\n",
              "      <td>Lvl</td>\n",
              "      <td>AllPub</td>\n",
              "      <td>Inside</td>\n",
              "      <td>Gtl</td>\n",
              "      <td>CollgCr</td>\n",
              "      <td>Norm</td>\n",
              "      <td>Norm</td>\n",
              "      <td>1Fam</td>\n",
              "      <td>2Story</td>\n",
              "      <td>7</td>\n",
              "      <td>5</td>\n",
              "      <td>2003</td>\n",
              "      <td>2003</td>\n",
              "      <td>Gable</td>\n",
              "      <td>CompShg</td>\n",
              "      <td>VinylSd</td>\n",
              "      <td>VinylSd</td>\n",
              "      <td>BrkFace</td>\n",
              "      <td>196.0</td>\n",
              "      <td>Gd</td>\n",
              "      <td>TA</td>\n",
              "      <td>PConc</td>\n",
              "      <td>Gd</td>\n",
              "      <td>TA</td>\n",
              "      <td>No</td>\n",
              "      <td>GLQ</td>\n",
              "      <td>706.0</td>\n",
              "      <td>Unf</td>\n",
              "      <td>0.0</td>\n",
              "      <td>150.0</td>\n",
              "      <td>856.0</td>\n",
              "      <td>GasA</td>\n",
              "      <td>...</td>\n",
              "      <td>Y</td>\n",
              "      <td>SBrkr</td>\n",
              "      <td>856</td>\n",
              "      <td>854</td>\n",
              "      <td>0</td>\n",
              "      <td>1710</td>\n",
              "      <td>1.0</td>\n",
              "      <td>0.0</td>\n",
              "      <td>2</td>\n",
              "      <td>1</td>\n",
              "      <td>3</td>\n",
              "      <td>1</td>\n",
              "      <td>Gd</td>\n",
              "      <td>8</td>\n",
              "      <td>Typ</td>\n",
              "      <td>0</td>\n",
              "      <td>NaN</td>\n",
              "      <td>Attchd</td>\n",
              "      <td>2003.0</td>\n",
              "      <td>RFn</td>\n",
              "      <td>2.0</td>\n",
              "      <td>548.0</td>\n",
              "      <td>TA</td>\n",
              "      <td>TA</td>\n",
              "      <td>Y</td>\n",
              "      <td>0</td>\n",
              "      <td>61</td>\n",
              "      <td>0</td>\n",
              "      <td>0</td>\n",
              "      <td>0</td>\n",
              "      <td>0</td>\n",
              "      <td>NaN</td>\n",
              "      <td>NaN</td>\n",
              "      <td>NaN</td>\n",
              "      <td>0</td>\n",
              "      <td>2</td>\n",
              "      <td>2008</td>\n",
              "      <td>WD</td>\n",
              "      <td>Normal</td>\n",
              "      <td>208500.0</td>\n",
              "    </tr>\n",
              "    <tr>\n",
              "      <th>1</th>\n",
              "      <td>2</td>\n",
              "      <td>20</td>\n",
              "      <td>RL</td>\n",
              "      <td>80.0</td>\n",
              "      <td>9600</td>\n",
              "      <td>Pave</td>\n",
              "      <td>NaN</td>\n",
              "      <td>Reg</td>\n",
              "      <td>Lvl</td>\n",
              "      <td>AllPub</td>\n",
              "      <td>FR2</td>\n",
              "      <td>Gtl</td>\n",
              "      <td>Veenker</td>\n",
              "      <td>Feedr</td>\n",
              "      <td>Norm</td>\n",
              "      <td>1Fam</td>\n",
              "      <td>1Story</td>\n",
              "      <td>6</td>\n",
              "      <td>8</td>\n",
              "      <td>1976</td>\n",
              "      <td>1976</td>\n",
              "      <td>Gable</td>\n",
              "      <td>CompShg</td>\n",
              "      <td>MetalSd</td>\n",
              "      <td>MetalSd</td>\n",
              "      <td>None</td>\n",
              "      <td>0.0</td>\n",
              "      <td>TA</td>\n",
              "      <td>TA</td>\n",
              "      <td>CBlock</td>\n",
              "      <td>Gd</td>\n",
              "      <td>TA</td>\n",
              "      <td>Gd</td>\n",
              "      <td>ALQ</td>\n",
              "      <td>978.0</td>\n",
              "      <td>Unf</td>\n",
              "      <td>0.0</td>\n",
              "      <td>284.0</td>\n",
              "      <td>1262.0</td>\n",
              "      <td>GasA</td>\n",
              "      <td>...</td>\n",
              "      <td>Y</td>\n",
              "      <td>SBrkr</td>\n",
              "      <td>1262</td>\n",
              "      <td>0</td>\n",
              "      <td>0</td>\n",
              "      <td>1262</td>\n",
              "      <td>0.0</td>\n",
              "      <td>1.0</td>\n",
              "      <td>2</td>\n",
              "      <td>0</td>\n",
              "      <td>3</td>\n",
              "      <td>1</td>\n",
              "      <td>TA</td>\n",
              "      <td>6</td>\n",
              "      <td>Typ</td>\n",
              "      <td>1</td>\n",
              "      <td>TA</td>\n",
              "      <td>Attchd</td>\n",
              "      <td>1976.0</td>\n",
              "      <td>RFn</td>\n",
              "      <td>2.0</td>\n",
              "      <td>460.0</td>\n",
              "      <td>TA</td>\n",
              "      <td>TA</td>\n",
              "      <td>Y</td>\n",
              "      <td>298</td>\n",
              "      <td>0</td>\n",
              "      <td>0</td>\n",
              "      <td>0</td>\n",
              "      <td>0</td>\n",
              "      <td>0</td>\n",
              "      <td>NaN</td>\n",
              "      <td>NaN</td>\n",
              "      <td>NaN</td>\n",
              "      <td>0</td>\n",
              "      <td>5</td>\n",
              "      <td>2007</td>\n",
              "      <td>WD</td>\n",
              "      <td>Normal</td>\n",
              "      <td>181500.0</td>\n",
              "    </tr>\n",
              "    <tr>\n",
              "      <th>2</th>\n",
              "      <td>3</td>\n",
              "      <td>60</td>\n",
              "      <td>RL</td>\n",
              "      <td>68.0</td>\n",
              "      <td>11250</td>\n",
              "      <td>Pave</td>\n",
              "      <td>NaN</td>\n",
              "      <td>IR1</td>\n",
              "      <td>Lvl</td>\n",
              "      <td>AllPub</td>\n",
              "      <td>Inside</td>\n",
              "      <td>Gtl</td>\n",
              "      <td>CollgCr</td>\n",
              "      <td>Norm</td>\n",
              "      <td>Norm</td>\n",
              "      <td>1Fam</td>\n",
              "      <td>2Story</td>\n",
              "      <td>7</td>\n",
              "      <td>5</td>\n",
              "      <td>2001</td>\n",
              "      <td>2002</td>\n",
              "      <td>Gable</td>\n",
              "      <td>CompShg</td>\n",
              "      <td>VinylSd</td>\n",
              "      <td>VinylSd</td>\n",
              "      <td>BrkFace</td>\n",
              "      <td>162.0</td>\n",
              "      <td>Gd</td>\n",
              "      <td>TA</td>\n",
              "      <td>PConc</td>\n",
              "      <td>Gd</td>\n",
              "      <td>TA</td>\n",
              "      <td>Mn</td>\n",
              "      <td>GLQ</td>\n",
              "      <td>486.0</td>\n",
              "      <td>Unf</td>\n",
              "      <td>0.0</td>\n",
              "      <td>434.0</td>\n",
              "      <td>920.0</td>\n",
              "      <td>GasA</td>\n",
              "      <td>...</td>\n",
              "      <td>Y</td>\n",
              "      <td>SBrkr</td>\n",
              "      <td>920</td>\n",
              "      <td>866</td>\n",
              "      <td>0</td>\n",
              "      <td>1786</td>\n",
              "      <td>1.0</td>\n",
              "      <td>0.0</td>\n",
              "      <td>2</td>\n",
              "      <td>1</td>\n",
              "      <td>3</td>\n",
              "      <td>1</td>\n",
              "      <td>Gd</td>\n",
              "      <td>6</td>\n",
              "      <td>Typ</td>\n",
              "      <td>1</td>\n",
              "      <td>TA</td>\n",
              "      <td>Attchd</td>\n",
              "      <td>2001.0</td>\n",
              "      <td>RFn</td>\n",
              "      <td>2.0</td>\n",
              "      <td>608.0</td>\n",
              "      <td>TA</td>\n",
              "      <td>TA</td>\n",
              "      <td>Y</td>\n",
              "      <td>0</td>\n",
              "      <td>42</td>\n",
              "      <td>0</td>\n",
              "      <td>0</td>\n",
              "      <td>0</td>\n",
              "      <td>0</td>\n",
              "      <td>NaN</td>\n",
              "      <td>NaN</td>\n",
              "      <td>NaN</td>\n",
              "      <td>0</td>\n",
              "      <td>9</td>\n",
              "      <td>2008</td>\n",
              "      <td>WD</td>\n",
              "      <td>Normal</td>\n",
              "      <td>223500.0</td>\n",
              "    </tr>\n",
              "    <tr>\n",
              "      <th>3</th>\n",
              "      <td>4</td>\n",
              "      <td>70</td>\n",
              "      <td>RL</td>\n",
              "      <td>60.0</td>\n",
              "      <td>9550</td>\n",
              "      <td>Pave</td>\n",
              "      <td>NaN</td>\n",
              "      <td>IR1</td>\n",
              "      <td>Lvl</td>\n",
              "      <td>AllPub</td>\n",
              "      <td>Corner</td>\n",
              "      <td>Gtl</td>\n",
              "      <td>Crawfor</td>\n",
              "      <td>Norm</td>\n",
              "      <td>Norm</td>\n",
              "      <td>1Fam</td>\n",
              "      <td>2Story</td>\n",
              "      <td>7</td>\n",
              "      <td>5</td>\n",
              "      <td>1915</td>\n",
              "      <td>1970</td>\n",
              "      <td>Gable</td>\n",
              "      <td>CompShg</td>\n",
              "      <td>Wd Sdng</td>\n",
              "      <td>Wd Shng</td>\n",
              "      <td>None</td>\n",
              "      <td>0.0</td>\n",
              "      <td>TA</td>\n",
              "      <td>TA</td>\n",
              "      <td>BrkTil</td>\n",
              "      <td>TA</td>\n",
              "      <td>Gd</td>\n",
              "      <td>No</td>\n",
              "      <td>ALQ</td>\n",
              "      <td>216.0</td>\n",
              "      <td>Unf</td>\n",
              "      <td>0.0</td>\n",
              "      <td>540.0</td>\n",
              "      <td>756.0</td>\n",
              "      <td>GasA</td>\n",
              "      <td>...</td>\n",
              "      <td>Y</td>\n",
              "      <td>SBrkr</td>\n",
              "      <td>961</td>\n",
              "      <td>756</td>\n",
              "      <td>0</td>\n",
              "      <td>1717</td>\n",
              "      <td>1.0</td>\n",
              "      <td>0.0</td>\n",
              "      <td>1</td>\n",
              "      <td>0</td>\n",
              "      <td>3</td>\n",
              "      <td>1</td>\n",
              "      <td>Gd</td>\n",
              "      <td>7</td>\n",
              "      <td>Typ</td>\n",
              "      <td>1</td>\n",
              "      <td>Gd</td>\n",
              "      <td>Detchd</td>\n",
              "      <td>1998.0</td>\n",
              "      <td>Unf</td>\n",
              "      <td>3.0</td>\n",
              "      <td>642.0</td>\n",
              "      <td>TA</td>\n",
              "      <td>TA</td>\n",
              "      <td>Y</td>\n",
              "      <td>0</td>\n",
              "      <td>35</td>\n",
              "      <td>272</td>\n",
              "      <td>0</td>\n",
              "      <td>0</td>\n",
              "      <td>0</td>\n",
              "      <td>NaN</td>\n",
              "      <td>NaN</td>\n",
              "      <td>NaN</td>\n",
              "      <td>0</td>\n",
              "      <td>2</td>\n",
              "      <td>2006</td>\n",
              "      <td>WD</td>\n",
              "      <td>Abnorml</td>\n",
              "      <td>140000.0</td>\n",
              "    </tr>\n",
              "    <tr>\n",
              "      <th>4</th>\n",
              "      <td>5</td>\n",
              "      <td>60</td>\n",
              "      <td>RL</td>\n",
              "      <td>84.0</td>\n",
              "      <td>14260</td>\n",
              "      <td>Pave</td>\n",
              "      <td>NaN</td>\n",
              "      <td>IR1</td>\n",
              "      <td>Lvl</td>\n",
              "      <td>AllPub</td>\n",
              "      <td>FR2</td>\n",
              "      <td>Gtl</td>\n",
              "      <td>NoRidge</td>\n",
              "      <td>Norm</td>\n",
              "      <td>Norm</td>\n",
              "      <td>1Fam</td>\n",
              "      <td>2Story</td>\n",
              "      <td>8</td>\n",
              "      <td>5</td>\n",
              "      <td>2000</td>\n",
              "      <td>2000</td>\n",
              "      <td>Gable</td>\n",
              "      <td>CompShg</td>\n",
              "      <td>VinylSd</td>\n",
              "      <td>VinylSd</td>\n",
              "      <td>BrkFace</td>\n",
              "      <td>350.0</td>\n",
              "      <td>Gd</td>\n",
              "      <td>TA</td>\n",
              "      <td>PConc</td>\n",
              "      <td>Gd</td>\n",
              "      <td>TA</td>\n",
              "      <td>Av</td>\n",
              "      <td>GLQ</td>\n",
              "      <td>655.0</td>\n",
              "      <td>Unf</td>\n",
              "      <td>0.0</td>\n",
              "      <td>490.0</td>\n",
              "      <td>1145.0</td>\n",
              "      <td>GasA</td>\n",
              "      <td>...</td>\n",
              "      <td>Y</td>\n",
              "      <td>SBrkr</td>\n",
              "      <td>1145</td>\n",
              "      <td>1053</td>\n",
              "      <td>0</td>\n",
              "      <td>2198</td>\n",
              "      <td>1.0</td>\n",
              "      <td>0.0</td>\n",
              "      <td>2</td>\n",
              "      <td>1</td>\n",
              "      <td>4</td>\n",
              "      <td>1</td>\n",
              "      <td>Gd</td>\n",
              "      <td>9</td>\n",
              "      <td>Typ</td>\n",
              "      <td>1</td>\n",
              "      <td>TA</td>\n",
              "      <td>Attchd</td>\n",
              "      <td>2000.0</td>\n",
              "      <td>RFn</td>\n",
              "      <td>3.0</td>\n",
              "      <td>836.0</td>\n",
              "      <td>TA</td>\n",
              "      <td>TA</td>\n",
              "      <td>Y</td>\n",
              "      <td>192</td>\n",
              "      <td>84</td>\n",
              "      <td>0</td>\n",
              "      <td>0</td>\n",
              "      <td>0</td>\n",
              "      <td>0</td>\n",
              "      <td>NaN</td>\n",
              "      <td>NaN</td>\n",
              "      <td>NaN</td>\n",
              "      <td>0</td>\n",
              "      <td>12</td>\n",
              "      <td>2008</td>\n",
              "      <td>WD</td>\n",
              "      <td>Normal</td>\n",
              "      <td>250000.0</td>\n",
              "    </tr>\n",
              "  </tbody>\n",
              "</table>\n",
              "<p>5 rows × 81 columns</p>\n",
              "</div>"
            ],
            "text/plain": [
              "   Id  MSSubClass MSZoning  ...  SaleType  SaleCondition SalePrice\n",
              "0   1          60       RL  ...        WD         Normal  208500.0\n",
              "1   2          20       RL  ...        WD         Normal  181500.0\n",
              "2   3          60       RL  ...        WD         Normal  223500.0\n",
              "3   4          70       RL  ...        WD        Abnorml  140000.0\n",
              "4   5          60       RL  ...        WD         Normal  250000.0\n",
              "\n",
              "[5 rows x 81 columns]"
            ]
          },
          "metadata": {
            "tags": []
          },
          "execution_count": 65
        }
      ]
    },
    {
      "cell_type": "code",
      "metadata": {
        "colab": {
          "base_uri": "https://localhost:8080/"
        },
        "id": "oPG_9srnYsTx",
        "outputId": "92028bbc-a148-437b-d626-a82e7bcd4aba"
      },
      "source": [
        "data.shape"
      ],
      "execution_count": 66,
      "outputs": [
        {
          "output_type": "execute_result",
          "data": {
            "text/plain": [
              "(2919, 81)"
            ]
          },
          "metadata": {
            "tags": []
          },
          "execution_count": 66
        }
      ]
    },
    {
      "cell_type": "code",
      "metadata": {
        "id": "gDyas5r5rn4u"
      },
      "source": [
        "x_data=data.drop(columns=['SalePrice'])\r\n",
        "y_data=data['SalePrice']"
      ],
      "execution_count": 67,
      "outputs": []
    },
    {
      "cell_type": "code",
      "metadata": {
        "id": "8VPzz9msrlsg"
      },
      "source": [
        "a=x_data.isnull().sum()"
      ],
      "execution_count": 68,
      "outputs": []
    },
    {
      "cell_type": "code",
      "metadata": {
        "colab": {
          "base_uri": "https://localhost:8080/"
        },
        "id": "ETTsevqaYyQf",
        "outputId": "c8200727-8aae-4fda-f08c-1e4bda275027"
      },
      "source": [
        "print(a)"
      ],
      "execution_count": 69,
      "outputs": [
        {
          "output_type": "stream",
          "text": [
            "Id                 0\n",
            "MSSubClass         0\n",
            "MSZoning           4\n",
            "LotFrontage      486\n",
            "LotArea            0\n",
            "                ... \n",
            "MiscVal            0\n",
            "MoSold             0\n",
            "YrSold             0\n",
            "SaleType           1\n",
            "SaleCondition      0\n",
            "Length: 80, dtype: int64\n"
          ],
          "name": "stdout"
        }
      ]
    },
    {
      "cell_type": "code",
      "metadata": {
        "id": "dimgUn_nZawu"
      },
      "source": [
        "cols=x_data.columns"
      ],
      "execution_count": 70,
      "outputs": []
    },
    {
      "cell_type": "code",
      "metadata": {
        "colab": {
          "base_uri": "https://localhost:8080/"
        },
        "id": "TXynHPw1buUg",
        "outputId": "d98c091c-0ac4-4c8f-9173-338e12d595b4"
      },
      "source": [
        "print(cols)"
      ],
      "execution_count": 71,
      "outputs": [
        {
          "output_type": "stream",
          "text": [
            "Index(['Id', 'MSSubClass', 'MSZoning', 'LotFrontage', 'LotArea', 'Street',\n",
            "       'Alley', 'LotShape', 'LandContour', 'Utilities', 'LotConfig',\n",
            "       'LandSlope', 'Neighborhood', 'Condition1', 'Condition2', 'BldgType',\n",
            "       'HouseStyle', 'OverallQual', 'OverallCond', 'YearBuilt', 'YearRemodAdd',\n",
            "       'RoofStyle', 'RoofMatl', 'Exterior1st', 'Exterior2nd', 'MasVnrType',\n",
            "       'MasVnrArea', 'ExterQual', 'ExterCond', 'Foundation', 'BsmtQual',\n",
            "       'BsmtCond', 'BsmtExposure', 'BsmtFinType1', 'BsmtFinSF1',\n",
            "       'BsmtFinType2', 'BsmtFinSF2', 'BsmtUnfSF', 'TotalBsmtSF', 'Heating',\n",
            "       'HeatingQC', 'CentralAir', 'Electrical', '1stFlrSF', '2ndFlrSF',\n",
            "       'LowQualFinSF', 'GrLivArea', 'BsmtFullBath', 'BsmtHalfBath', 'FullBath',\n",
            "       'HalfBath', 'BedroomAbvGr', 'KitchenAbvGr', 'KitchenQual',\n",
            "       'TotRmsAbvGrd', 'Functional', 'Fireplaces', 'FireplaceQu', 'GarageType',\n",
            "       'GarageYrBlt', 'GarageFinish', 'GarageCars', 'GarageArea', 'GarageQual',\n",
            "       'GarageCond', 'PavedDrive', 'WoodDeckSF', 'OpenPorchSF',\n",
            "       'EnclosedPorch', '3SsnPorch', 'ScreenPorch', 'PoolArea', 'PoolQC',\n",
            "       'Fence', 'MiscFeature', 'MiscVal', 'MoSold', 'YrSold', 'SaleType',\n",
            "       'SaleCondition'],\n",
            "      dtype='object')\n"
          ],
          "name": "stdout"
        }
      ]
    },
    {
      "cell_type": "code",
      "metadata": {
        "colab": {
          "base_uri": "https://localhost:8080/"
        },
        "id": "xVIbT0HHjEaH",
        "outputId": "9dbf46f5-71f7-4522-ed87-4f4e2aa7c27b"
      },
      "source": [
        "for i in range(0,len(a)):\r\n",
        "  if a[i]!=0:\r\n",
        "    print(x_data[cols[i]].dtypes,a[i],i)"
      ],
      "execution_count": 72,
      "outputs": [
        {
          "output_type": "stream",
          "text": [
            "object 4 2\n",
            "float64 486 3\n",
            "object 2721 6\n",
            "object 2 9\n",
            "object 1 23\n",
            "object 1 24\n",
            "object 24 25\n",
            "float64 23 26\n",
            "object 81 30\n",
            "object 82 31\n",
            "object 82 32\n",
            "object 79 33\n",
            "float64 1 34\n",
            "object 80 35\n",
            "float64 1 36\n",
            "float64 1 37\n",
            "float64 1 38\n",
            "object 1 42\n",
            "float64 2 47\n",
            "float64 2 48\n",
            "object 1 53\n",
            "object 2 55\n",
            "object 1420 57\n",
            "object 157 58\n",
            "float64 159 59\n",
            "object 159 60\n",
            "float64 1 61\n",
            "float64 1 62\n",
            "object 159 63\n",
            "object 159 64\n",
            "object 2909 72\n",
            "object 2348 73\n",
            "object 2814 74\n",
            "object 1 78\n"
          ],
          "name": "stdout"
        }
      ]
    },
    {
      "cell_type": "code",
      "metadata": {
        "id": "CLuvNnPFjX_T"
      },
      "source": [
        "x_data[cols[3]]=x_data[cols[3]].replace(np.NaN,x_data[cols[3]].mean())\r\n",
        "x_data[cols[26]]=x_data[cols[26]].replace(np.NaN,x_data[cols[26]].mean())\r\n",
        "x_data[cols[34]]=x_data[cols[34]].replace(np.NaN,x_data[cols[34]].mean())\r\n",
        "x_data[cols[36]]=x_data[cols[36]].replace(np.NaN,x_data[cols[36]].mean())\r\n",
        "x_data[cols[37]]=x_data[cols[37]].replace(np.NaN,x_data[cols[37]].mean())\r\n",
        "x_data[cols[38]]=x_data[cols[38]].replace(np.NaN,x_data[cols[38]].mean())\r\n",
        "x_data[cols[47]]=x_data[cols[47]].replace(np.NaN,x_data[cols[47]].mean())\r\n",
        "x_data[cols[48]]=x_data[cols[48]].replace(np.NaN,x_data[cols[48]].mean())\r\n",
        "x_data[cols[59]]=x_data[cols[59]].replace(np.NaN,x_data[cols[59]].mean())\r\n",
        "x_data[cols[61]]=x_data[cols[61]].replace(np.NaN,x_data[cols[61]].mean())\r\n",
        "x_data[cols[62]]=x_data[cols[62]].replace(np.NaN,x_data[cols[62]].mean())"
      ],
      "execution_count": 73,
      "outputs": []
    },
    {
      "cell_type": "code",
      "metadata": {
        "colab": {
          "base_uri": "https://localhost:8080/"
        },
        "id": "vBS4ePE8rsBd",
        "outputId": "4383ca46-600c-4da2-bda3-06555db0d513"
      },
      "source": [
        "a=x_data.isnull().sum()\r\n",
        "for i in range(0,len(a)):\r\n",
        "  if a[i]!=0:\r\n",
        "    print(x_data[cols[i]].dtypes,i,a[i])"
      ],
      "execution_count": 74,
      "outputs": [
        {
          "output_type": "stream",
          "text": [
            "object 2 4\n",
            "object 6 2721\n",
            "object 9 2\n",
            "object 23 1\n",
            "object 24 1\n",
            "object 25 24\n",
            "object 30 81\n",
            "object 31 82\n",
            "object 32 82\n",
            "object 33 79\n",
            "object 35 80\n",
            "object 42 1\n",
            "object 53 1\n",
            "object 55 2\n",
            "object 57 1420\n",
            "object 58 157\n",
            "object 60 159\n",
            "object 63 159\n",
            "object 64 159\n",
            "object 72 2909\n",
            "object 73 2348\n",
            "object 74 2814\n",
            "object 78 1\n"
          ],
          "name": "stdout"
        }
      ]
    },
    {
      "cell_type": "code",
      "metadata": {
        "id": "KZVxTrr1cO7I",
        "colab": {
          "base_uri": "https://localhost:8080/"
        },
        "outputId": "7e42f042-89b6-42dd-8704-707d781d86f1"
      },
      "source": [
        "print(cols[72],cols[74],cols[6],cols[73])"
      ],
      "execution_count": 75,
      "outputs": [
        {
          "output_type": "stream",
          "text": [
            "PoolQC MiscFeature Alley Fence\n"
          ],
          "name": "stdout"
        }
      ]
    },
    {
      "cell_type": "code",
      "metadata": {
        "id": "aVfPkO_YsCuN"
      },
      "source": [
        "x_data=x_data.drop(columns=['PoolQC','MiscFeature','Alley','Fence'],axis=1)"
      ],
      "execution_count": 76,
      "outputs": []
    },
    {
      "cell_type": "code",
      "metadata": {
        "id": "eiLQFUjRhCxx"
      },
      "source": [
        "cols=x_data.columns"
      ],
      "execution_count": 77,
      "outputs": []
    },
    {
      "cell_type": "code",
      "metadata": {
        "colab": {
          "base_uri": "https://localhost:8080/"
        },
        "id": "SRfSfGRGhTpL",
        "outputId": "8d8ac179-ca8b-41ad-fa7b-dc49f5fd0ac9"
      },
      "source": [
        "a=x_data.isnull().sum()\r\n",
        "for i in range(0,len(a)):\r\n",
        "  if a[i]!=0:\r\n",
        "    print(x_data[cols[i]].dtypes,i,a[i])"
      ],
      "execution_count": 78,
      "outputs": [
        {
          "output_type": "stream",
          "text": [
            "object 2 4\n",
            "object 8 2\n",
            "object 22 1\n",
            "object 23 1\n",
            "object 24 24\n",
            "object 29 81\n",
            "object 30 82\n",
            "object 31 82\n",
            "object 32 79\n",
            "object 34 80\n",
            "object 41 1\n",
            "object 52 1\n",
            "object 54 2\n",
            "object 56 1420\n",
            "object 57 157\n",
            "object 59 159\n",
            "object 62 159\n",
            "object 63 159\n",
            "object 74 1\n"
          ],
          "name": "stdout"
        }
      ]
    },
    {
      "cell_type": "code",
      "metadata": {
        "colab": {
          "base_uri": "https://localhost:8080/",
          "height": 350
        },
        "id": "U2V6pH9XhpZa",
        "outputId": "95c3a651-21ef-4677-fe33-61e74c138edd"
      },
      "source": [
        "import seaborn as sns\r\n",
        "sns.countplot(x_data[cols[2]])"
      ],
      "execution_count": 79,
      "outputs": [
        {
          "output_type": "stream",
          "text": [
            "/usr/local/lib/python3.6/dist-packages/seaborn/_decorators.py:43: FutureWarning: Pass the following variable as a keyword arg: x. From version 0.12, the only valid positional argument will be `data`, and passing other arguments without an explicit keyword will result in an error or misinterpretation.\n",
            "  FutureWarning\n"
          ],
          "name": "stderr"
        },
        {
          "output_type": "execute_result",
          "data": {
            "text/plain": [
              "<matplotlib.axes._subplots.AxesSubplot at 0x7efd8f9df198>"
            ]
          },
          "metadata": {
            "tags": []
          },
          "execution_count": 79
        },
        {
          "output_type": "display_data",
          "data": {
            "image/png": "[encoded data removed]",
            "text/plain": [
              "<Figure size 432x288 with 1 Axes>"
            ]
          },
          "metadata": {
            "tags": [],
            "needs_background": "light"
          }
        }
      ]
    },
    {
      "cell_type": "code",
      "metadata": {
        "id": "UtTmGX68ike2"
      },
      "source": [
        "x_data[cols[2]]=x_data[cols[2]].replace(np.NaN,'RL')"
      ],
      "execution_count": 80,
      "outputs": []
    },
    {
      "cell_type": "code",
      "metadata": {
        "colab": {
          "base_uri": "https://localhost:8080/",
          "height": 350
        },
        "id": "e-VSd0_iiuei",
        "outputId": "78607560-9fe6-435b-c314-9b8c321f66ef"
      },
      "source": [
        "sns.countplot(x_data[cols[8]])"
      ],
      "execution_count": 81,
      "outputs": [
        {
          "output_type": "stream",
          "text": [
            "/usr/local/lib/python3.6/dist-packages/seaborn/_decorators.py:43: FutureWarning: Pass the following variable as a keyword arg: x. From version 0.12, the only valid positional argument will be `data`, and passing other arguments without an explicit keyword will result in an error or misinterpretation.\n",
            "  FutureWarning\n"
          ],
          "name": "stderr"
        },
        {
          "output_type": "execute_result",
          "data": {
            "text/plain": [
              "<matplotlib.axes._subplots.AxesSubplot at 0x7efd8f9df550>"
            ]
          },
          "metadata": {
            "tags": []
          },
          "execution_count": 81
        },
        {
          "output_type": "display_data",
          "data": {
            "image/png": "[encoded data removed]",
            "text/plain": [
              "<Figure size 432x288 with 1 Axes>"
            ]
          },
          "metadata": {
            "tags": [],
            "needs_background": "light"
          }
        }
      ]
    },
    {
      "cell_type": "code",
      "metadata": {
        "id": "vXFiVou4iuai"
      },
      "source": [
        "x_data[cols[8]]=x_data[cols[8]].replace(np.NaN,'AllPub')"
      ],
      "execution_count": 82,
      "outputs": []
    },
    {
      "cell_type": "code",
      "metadata": {
        "colab": {
          "base_uri": "https://localhost:8080/",
          "height": 350
        },
        "id": "cwLtROgniuYk",
        "outputId": "4a9fea17-b755-43bf-a377-e9fd3053d45c"
      },
      "source": [
        "sns.countplot(x_data[cols[22]])"
      ],
      "execution_count": 83,
      "outputs": [
        {
          "output_type": "stream",
          "text": [
            "/usr/local/lib/python3.6/dist-packages/seaborn/_decorators.py:43: FutureWarning: Pass the following variable as a keyword arg: x. From version 0.12, the only valid positional argument will be `data`, and passing other arguments without an explicit keyword will result in an error or misinterpretation.\n",
            "  FutureWarning\n"
          ],
          "name": "stderr"
        },
        {
          "output_type": "execute_result",
          "data": {
            "text/plain": [
              "<matplotlib.axes._subplots.AxesSubplot at 0x7efd8f954a90>"
            ]
          },
          "metadata": {
            "tags": []
          },
          "execution_count": 83
        },
        {
          "output_type": "display_data",
          "data": {
            "image/png": "[encoded data removed]",
            "text/plain": [
              "<Figure size 432x288 with 1 Axes>"
            ]
          },
          "metadata": {
            "tags": [],
            "needs_background": "light"
          }
        }
      ]
    },
    {
      "cell_type": "code",
      "metadata": {
        "id": "vz5y0cZDiuUh"
      },
      "source": [
        "x_data[cols[22]]=x_data[cols[22]].replace(np.NaN,'VinylSd')"
      ],
      "execution_count": 84,
      "outputs": []
    },
    {
      "cell_type": "code",
      "metadata": {
        "colab": {
          "base_uri": "https://localhost:8080/",
          "height": 350
        },
        "id": "J1qy1ao-iuSm",
        "outputId": "0645c36d-4831-4f2e-9c61-edad708289b9"
      },
      "source": [
        "sns.countplot(x_data[cols[23]])"
      ],
      "execution_count": 85,
      "outputs": [
        {
          "output_type": "stream",
          "text": [
            "/usr/local/lib/python3.6/dist-packages/seaborn/_decorators.py:43: FutureWarning: Pass the following variable as a keyword arg: x. From version 0.12, the only valid positional argument will be `data`, and passing other arguments without an explicit keyword will result in an error or misinterpretation.\n",
            "  FutureWarning\n"
          ],
          "name": "stderr"
        },
        {
          "output_type": "execute_result",
          "data": {
            "text/plain": [
              "<matplotlib.axes._subplots.AxesSubplot at 0x7efd8f88cf28>"
            ]
          },
          "metadata": {
            "tags": []
          },
          "execution_count": 85
        },
        {
          "output_type": "display_data",
          "data": {
            "image/png": "[encoded data removed]",
            "text/plain": [
              "<Figure size 432x288 with 1 Axes>"
            ]
          },
          "metadata": {
            "tags": [],
            "needs_background": "light"
          }
        }
      ]
    },
    {
      "cell_type": "code",
      "metadata": {
        "id": "myYLTEAQitrA"
      },
      "source": [
        "x_data[cols[23]]=x_data[cols[23]].replace(np.NaN,'VinylSd')"
      ],
      "execution_count": 86,
      "outputs": []
    },
    {
      "cell_type": "code",
      "metadata": {
        "colab": {
          "base_uri": "https://localhost:8080/",
          "height": 350
        },
        "id": "wtA2RjG8jcOG",
        "outputId": "13910b3d-3547-4aec-8b7f-329c9e311503"
      },
      "source": [
        "sns.countplot(x_data[cols[24]])"
      ],
      "execution_count": 87,
      "outputs": [
        {
          "output_type": "stream",
          "text": [
            "/usr/local/lib/python3.6/dist-packages/seaborn/_decorators.py:43: FutureWarning: Pass the following variable as a keyword arg: x. From version 0.12, the only valid positional argument will be `data`, and passing other arguments without an explicit keyword will result in an error or misinterpretation.\n",
            "  FutureWarning\n"
          ],
          "name": "stderr"
        },
        {
          "output_type": "execute_result",
          "data": {
            "text/plain": [
              "<matplotlib.axes._subplots.AxesSubplot at 0x7efd8f825b70>"
            ]
          },
          "metadata": {
            "tags": []
          },
          "execution_count": 87
        },
        {
          "output_type": "display_data",
          "data": {
            "image/png": "[encoded data removed]",
            "text/plain": [
              "<Figure size 432x288 with 1 Axes>"
            ]
          },
          "metadata": {
            "tags": [],
            "needs_background": "light"
          }
        }
      ]
    },
    {
      "cell_type": "code",
      "metadata": {
        "id": "XdRDmwI8jcLU"
      },
      "source": [
        "x_data[cols[24]]=x_data[cols[24]].replace(np.NaN,'None')"
      ],
      "execution_count": 88,
      "outputs": []
    },
    {
      "cell_type": "code",
      "metadata": {
        "colab": {
          "base_uri": "https://localhost:8080/",
          "height": 350
        },
        "id": "Vnwn-CwxjcIY",
        "outputId": "80a65927-41c3-4833-b82c-44fab82012fd"
      },
      "source": [
        "sns.countplot(x_data[cols[29]])"
      ],
      "execution_count": 89,
      "outputs": [
        {
          "output_type": "stream",
          "text": [
            "/usr/local/lib/python3.6/dist-packages/seaborn/_decorators.py:43: FutureWarning: Pass the following variable as a keyword arg: x. From version 0.12, the only valid positional argument will be `data`, and passing other arguments without an explicit keyword will result in an error or misinterpretation.\n",
            "  FutureWarning\n"
          ],
          "name": "stderr"
        },
        {
          "output_type": "execute_result",
          "data": {
            "text/plain": [
              "<matplotlib.axes._subplots.AxesSubplot at 0x7efd8f7f37f0>"
            ]
          },
          "metadata": {
            "tags": []
          },
          "execution_count": 89
        },
        {
          "output_type": "display_data",
          "data": {
            "image/png": "[encoded data removed]",
            "text/plain": [
              "<Figure size 432x288 with 1 Axes>"
            ]
          },
          "metadata": {
            "tags": [],
            "needs_background": "light"
          }
        }
      ]
    },
    {
      "cell_type": "code",
      "metadata": {
        "id": "kluYOxi5jcFL"
      },
      "source": [
        "x_data[cols[29]]=x_data[cols[29]].replace(np.NaN,'TA')"
      ],
      "execution_count": 90,
      "outputs": []
    },
    {
      "cell_type": "code",
      "metadata": {
        "colab": {
          "base_uri": "https://localhost:8080/",
          "height": 350
        },
        "id": "48EVbUwOjcCR",
        "outputId": "ac27368a-eecd-48be-f191-67dfe555e829"
      },
      "source": [
        "sns.countplot(x_data[cols[30]])"
      ],
      "execution_count": 91,
      "outputs": [
        {
          "output_type": "stream",
          "text": [
            "/usr/local/lib/python3.6/dist-packages/seaborn/_decorators.py:43: FutureWarning: Pass the following variable as a keyword arg: x. From version 0.12, the only valid positional argument will be `data`, and passing other arguments without an explicit keyword will result in an error or misinterpretation.\n",
            "  FutureWarning\n"
          ],
          "name": "stderr"
        },
        {
          "output_type": "execute_result",
          "data": {
            "text/plain": [
              "<matplotlib.axes._subplots.AxesSubplot at 0x7efd8f75ddd8>"
            ]
          },
          "metadata": {
            "tags": []
          },
          "execution_count": 91
        },
        {
          "output_type": "display_data",
          "data": {
            "image/png": "[encoded data removed]",
            "text/plain": [
              "<Figure size 432x288 with 1 Axes>"
            ]
          },
          "metadata": {
            "tags": [],
            "needs_background": "light"
          }
        }
      ]
    },
    {
      "cell_type": "code",
      "metadata": {
        "id": "aiPkYIMdjb_O"
      },
      "source": [
        "x_data[cols[30]]=x_data[cols[30]].replace(np.NaN,'TA')"
      ],
      "execution_count": 92,
      "outputs": []
    },
    {
      "cell_type": "code",
      "metadata": {
        "colab": {
          "base_uri": "https://localhost:8080/",
          "height": 350
        },
        "id": "tF4XbBDYjb8W",
        "outputId": "98c35e17-1a87-46eb-c53a-1b93e8343b54"
      },
      "source": [
        "sns.countplot(x_data[cols[31]])"
      ],
      "execution_count": 93,
      "outputs": [
        {
          "output_type": "stream",
          "text": [
            "/usr/local/lib/python3.6/dist-packages/seaborn/_decorators.py:43: FutureWarning: Pass the following variable as a keyword arg: x. From version 0.12, the only valid positional argument will be `data`, and passing other arguments without an explicit keyword will result in an error or misinterpretation.\n",
            "  FutureWarning\n"
          ],
          "name": "stderr"
        },
        {
          "output_type": "execute_result",
          "data": {
            "text/plain": [
              "<matplotlib.axes._subplots.AxesSubplot at 0x7efd8f73b080>"
            ]
          },
          "metadata": {
            "tags": []
          },
          "execution_count": 93
        },
        {
          "output_type": "display_data",
          "data": {
            "image/png": "[encoded data removed]",
            "text/plain": [
              "<Figure size 432x288 with 1 Axes>"
            ]
          },
          "metadata": {
            "tags": [],
            "needs_background": "light"
          }
        }
      ]
    },
    {
      "cell_type": "code",
      "metadata": {
        "id": "ZH1cE2sujb5U"
      },
      "source": [
        "x_data[cols[31]]=x_data[cols[31]].replace(np.NaN,'No')"
      ],
      "execution_count": 94,
      "outputs": []
    },
    {
      "cell_type": "code",
      "metadata": {
        "colab": {
          "base_uri": "https://localhost:8080/",
          "height": 350
        },
        "id": "VnEEDIqjkRyb",
        "outputId": "c3d072d2-7b0c-4c34-a6f4-cda16c45beb9"
      },
      "source": [
        "sns.countplot(x_data[cols[32]])"
      ],
      "execution_count": 95,
      "outputs": [
        {
          "output_type": "stream",
          "text": [
            "/usr/local/lib/python3.6/dist-packages/seaborn/_decorators.py:43: FutureWarning: Pass the following variable as a keyword arg: x. From version 0.12, the only valid positional argument will be `data`, and passing other arguments without an explicit keyword will result in an error or misinterpretation.\n",
            "  FutureWarning\n"
          ],
          "name": "stderr"
        },
        {
          "output_type": "execute_result",
          "data": {
            "text/plain": [
              "<matplotlib.axes._subplots.AxesSubplot at 0x7efd8f68fe80>"
            ]
          },
          "metadata": {
            "tags": []
          },
          "execution_count": 95
        },
        {
          "output_type": "display_data",
          "data": {
            "image/png": "[encoded data removed]",
            "text/plain": [
              "<Figure size 432x288 with 1 Axes>"
            ]
          },
          "metadata": {
            "tags": [],
            "needs_background": "light"
          }
        }
      ]
    },
    {
      "cell_type": "code",
      "metadata": {
        "id": "z5lfLKrBkRvn"
      },
      "source": [
        "x_data[cols[32]]=x_data[cols[32]].replace(np.NaN,'GLQ')"
      ],
      "execution_count": 96,
      "outputs": []
    },
    {
      "cell_type": "code",
      "metadata": {
        "colab": {
          "base_uri": "https://localhost:8080/",
          "height": 350
        },
        "id": "UlLuNM85kRra",
        "outputId": "d4060b69-2689-42ea-d05b-19a78552e25c"
      },
      "source": [
        "sns.countplot(x_data[cols[34]])"
      ],
      "execution_count": 97,
      "outputs": [
        {
          "output_type": "stream",
          "text": [
            "/usr/local/lib/python3.6/dist-packages/seaborn/_decorators.py:43: FutureWarning: Pass the following variable as a keyword arg: x. From version 0.12, the only valid positional argument will be `data`, and passing other arguments without an explicit keyword will result in an error or misinterpretation.\n",
            "  FutureWarning\n"
          ],
          "name": "stderr"
        },
        {
          "output_type": "execute_result",
          "data": {
            "text/plain": [
              "<matplotlib.axes._subplots.AxesSubplot at 0x7efd8fcad9b0>"
            ]
          },
          "metadata": {
            "tags": []
          },
          "execution_count": 97
        },
        {
          "output_type": "display_data",
          "data": {
            "image/png": "[encoded data removed]",
            "text/plain": [
              "<Figure size 432x288 with 1 Axes>"
            ]
          },
          "metadata": {
            "tags": [],
            "needs_background": "light"
          }
        }
      ]
    },
    {
      "cell_type": "code",
      "metadata": {
        "id": "cZZcSlKgkRpz"
      },
      "source": [
        "x_data[cols[34]]=x_data[cols[34]].replace(np.NaN,'Unf')"
      ],
      "execution_count": 98,
      "outputs": []
    },
    {
      "cell_type": "code",
      "metadata": {
        "colab": {
          "base_uri": "https://localhost:8080/",
          "height": 350
        },
        "id": "wbi6cztVkRmB",
        "outputId": "596c3f64-c735-42d4-dfc2-8ffa4bb7e833"
      },
      "source": [
        "sns.countplot(x_data[cols[41]])"
      ],
      "execution_count": 99,
      "outputs": [
        {
          "output_type": "stream",
          "text": [
            "/usr/local/lib/python3.6/dist-packages/seaborn/_decorators.py:43: FutureWarning: Pass the following variable as a keyword arg: x. From version 0.12, the only valid positional argument will be `data`, and passing other arguments without an explicit keyword will result in an error or misinterpretation.\n",
            "  FutureWarning\n"
          ],
          "name": "stderr"
        },
        {
          "output_type": "execute_result",
          "data": {
            "text/plain": [
              "<matplotlib.axes._subplots.AxesSubplot at 0x7efd8fadb898>"
            ]
          },
          "metadata": {
            "tags": []
          },
          "execution_count": 99
        },
        {
          "output_type": "display_data",
          "data": {
            "image/png": "[encoded data removed]",
            "text/plain": [
              "<Figure size 432x288 with 1 Axes>"
            ]
          },
          "metadata": {
            "tags": [],
            "needs_background": "light"
          }
        }
      ]
    },
    {
      "cell_type": "code",
      "metadata": {
        "id": "TLXYzfVckRjv"
      },
      "source": [
        "x_data[cols[41]]=x_data[cols[41]].replace(np.NaN,'SBrkr')"
      ],
      "execution_count": 100,
      "outputs": []
    },
    {
      "cell_type": "code",
      "metadata": {
        "colab": {
          "base_uri": "https://localhost:8080/",
          "height": 350
        },
        "id": "NmRc6yU5kRfY",
        "outputId": "27591bda-23f0-46e3-f425-c711c60a5597"
      },
      "source": [
        "sns.countplot(x_data[cols[52]])"
      ],
      "execution_count": 101,
      "outputs": [
        {
          "output_type": "stream",
          "text": [
            "/usr/local/lib/python3.6/dist-packages/seaborn/_decorators.py:43: FutureWarning: Pass the following variable as a keyword arg: x. From version 0.12, the only valid positional argument will be `data`, and passing other arguments without an explicit keyword will result in an error or misinterpretation.\n",
            "  FutureWarning\n"
          ],
          "name": "stderr"
        },
        {
          "output_type": "execute_result",
          "data": {
            "text/plain": [
              "<matplotlib.axes._subplots.AxesSubplot at 0x7efd8f5aafd0>"
            ]
          },
          "metadata": {
            "tags": []
          },
          "execution_count": 101
        },
        {
          "output_type": "display_data",
          "data": {
            "image/png": "[encoded data removed]",
            "text/plain": [
              "<Figure size 432x288 with 1 Axes>"
            ]
          },
          "metadata": {
            "tags": [],
            "needs_background": "light"
          }
        }
      ]
    },
    {
      "cell_type": "code",
      "metadata": {
        "id": "6aIaPxC7kRdt"
      },
      "source": [
        "x_data[cols[52]]=x_data[cols[52]].replace(np.NaN,'TA')"
      ],
      "execution_count": 102,
      "outputs": []
    },
    {
      "cell_type": "code",
      "metadata": {
        "colab": {
          "base_uri": "https://localhost:8080/",
          "height": 350
        },
        "id": "WBTq3Jiwxdx7",
        "outputId": "2dc60155-bccb-41c4-d596-931a2a733d7e"
      },
      "source": [
        "sns.countplot(x_data[cols[54]])"
      ],
      "execution_count": 103,
      "outputs": [
        {
          "output_type": "stream",
          "text": [
            "/usr/local/lib/python3.6/dist-packages/seaborn/_decorators.py:43: FutureWarning: Pass the following variable as a keyword arg: x. From version 0.12, the only valid positional argument will be `data`, and passing other arguments without an explicit keyword will result in an error or misinterpretation.\n",
            "  FutureWarning\n"
          ],
          "name": "stderr"
        },
        {
          "output_type": "execute_result",
          "data": {
            "text/plain": [
              "<matplotlib.axes._subplots.AxesSubplot at 0x7efd8f51b978>"
            ]
          },
          "metadata": {
            "tags": []
          },
          "execution_count": 103
        },
        {
          "output_type": "display_data",
          "data": {
            "image/png": "[encoded data removed]",
            "text/plain": [
              "<Figure size 432x288 with 1 Axes>"
            ]
          },
          "metadata": {
            "tags": [],
            "needs_background": "light"
          }
        }
      ]
    },
    {
      "cell_type": "code",
      "metadata": {
        "id": "egdxVag2xduQ"
      },
      "source": [
        "x_data[cols[54]]=x_data[cols[54]].replace(np.NaN,'Typ')"
      ],
      "execution_count": 104,
      "outputs": []
    },
    {
      "cell_type": "code",
      "metadata": {
        "colab": {
          "base_uri": "https://localhost:8080/",
          "height": 350
        },
        "id": "f5mcZQI2xdsW",
        "outputId": "515302c5-a7e0-4416-e845-f9a36405f8e4"
      },
      "source": [
        "sns.countplot(x_data[cols[56]])"
      ],
      "execution_count": 105,
      "outputs": [
        {
          "output_type": "stream",
          "text": [
            "/usr/local/lib/python3.6/dist-packages/seaborn/_decorators.py:43: FutureWarning: Pass the following variable as a keyword arg: x. From version 0.12, the only valid positional argument will be `data`, and passing other arguments without an explicit keyword will result in an error or misinterpretation.\n",
            "  FutureWarning\n"
          ],
          "name": "stderr"
        },
        {
          "output_type": "execute_result",
          "data": {
            "text/plain": [
              "<matplotlib.axes._subplots.AxesSubplot at 0x7efd8f486d68>"
            ]
          },
          "metadata": {
            "tags": []
          },
          "execution_count": 105
        },
        {
          "output_type": "display_data",
          "data": {
            "image/png": "[encoded data removed]",
            "text/plain": [
              "<Figure size 432x288 with 1 Axes>"
            ]
          },
          "metadata": {
            "tags": [],
            "needs_background": "light"
          }
        }
      ]
    },
    {
      "cell_type": "code",
      "metadata": {
        "id": "aG967dPHxdoR"
      },
      "source": [
        "x_data[cols[56]]=x_data[cols[56]].replace(np.NaN,'New')"
      ],
      "execution_count": 106,
      "outputs": []
    },
    {
      "cell_type": "code",
      "metadata": {
        "colab": {
          "base_uri": "https://localhost:8080/",
          "height": 350
        },
        "id": "psxMOvxcxdmc",
        "outputId": "7ff7d54b-a57a-433a-eb9a-f7edbb516908"
      },
      "source": [
        "sns.countplot(x_data[cols[57]])"
      ],
      "execution_count": 107,
      "outputs": [
        {
          "output_type": "stream",
          "text": [
            "/usr/local/lib/python3.6/dist-packages/seaborn/_decorators.py:43: FutureWarning: Pass the following variable as a keyword arg: x. From version 0.12, the only valid positional argument will be `data`, and passing other arguments without an explicit keyword will result in an error or misinterpretation.\n",
            "  FutureWarning\n"
          ],
          "name": "stderr"
        },
        {
          "output_type": "execute_result",
          "data": {
            "text/plain": [
              "<matplotlib.axes._subplots.AxesSubplot at 0x7efd8f458d68>"
            ]
          },
          "metadata": {
            "tags": []
          },
          "execution_count": 107
        },
        {
          "output_type": "display_data",
          "data": {
            "image/png": "[encoded data removed]",
            "text/plain": [
              "<Figure size 432x288 with 1 Axes>"
            ]
          },
          "metadata": {
            "tags": [],
            "needs_background": "light"
          }
        }
      ]
    },
    {
      "cell_type": "code",
      "metadata": {
        "id": "4Fy9wN8dxdil"
      },
      "source": [
        "x_data[cols[57]]=x_data[cols[57]].replace(np.NaN,'Attchd')"
      ],
      "execution_count": 108,
      "outputs": []
    },
    {
      "cell_type": "code",
      "metadata": {
        "colab": {
          "base_uri": "https://localhost:8080/",
          "height": 350
        },
        "id": "9uExODT2xdga",
        "outputId": "d7bf23f5-2060-440f-fb37-e8ddf4c2da24"
      },
      "source": [
        "sns.countplot(x_data[cols[59]])"
      ],
      "execution_count": 109,
      "outputs": [
        {
          "output_type": "stream",
          "text": [
            "/usr/local/lib/python3.6/dist-packages/seaborn/_decorators.py:43: FutureWarning: Pass the following variable as a keyword arg: x. From version 0.12, the only valid positional argument will be `data`, and passing other arguments without an explicit keyword will result in an error or misinterpretation.\n",
            "  FutureWarning\n"
          ],
          "name": "stderr"
        },
        {
          "output_type": "execute_result",
          "data": {
            "text/plain": [
              "<matplotlib.axes._subplots.AxesSubplot at 0x7efd8f473be0>"
            ]
          },
          "metadata": {
            "tags": []
          },
          "execution_count": 109
        },
        {
          "output_type": "display_data",
          "data": {
            "image/png": "[encoded data removed]",
            "text/plain": [
              "<Figure size 432x288 with 1 Axes>"
            ]
          },
          "metadata": {
            "tags": [],
            "needs_background": "light"
          }
        }
      ]
    },
    {
      "cell_type": "code",
      "metadata": {
        "id": "qqYh-yDIxdYc"
      },
      "source": [
        "x_data[cols[59]]=x_data[cols[59]].replace(np.NaN,'unf')"
      ],
      "execution_count": 110,
      "outputs": []
    },
    {
      "cell_type": "code",
      "metadata": {
        "colab": {
          "base_uri": "https://localhost:8080/",
          "height": 350
        },
        "id": "kmVzPb9_xdVf",
        "outputId": "765a9d74-d0f2-4b12-a977-9a9b6232b190"
      },
      "source": [
        "sns.countplot(x_data[cols[62]])"
      ],
      "execution_count": 111,
      "outputs": [
        {
          "output_type": "stream",
          "text": [
            "/usr/local/lib/python3.6/dist-packages/seaborn/_decorators.py:43: FutureWarning: Pass the following variable as a keyword arg: x. From version 0.12, the only valid positional argument will be `data`, and passing other arguments without an explicit keyword will result in an error or misinterpretation.\n",
            "  FutureWarning\n"
          ],
          "name": "stderr"
        },
        {
          "output_type": "execute_result",
          "data": {
            "text/plain": [
              "<matplotlib.axes._subplots.AxesSubplot at 0x7efd8f3b9780>"
            ]
          },
          "metadata": {
            "tags": []
          },
          "execution_count": 111
        },
        {
          "output_type": "display_data",
          "data": {
            "image/png": "[encoded data removed]",
            "text/plain": [
              "<Figure size 432x288 with 1 Axes>"
            ]
          },
          "metadata": {
            "tags": [],
            "needs_background": "light"
          }
        }
      ]
    },
    {
      "cell_type": "code",
      "metadata": {
        "id": "VM07iAUI0SJc"
      },
      "source": [
        "x_data[cols[62]]=x_data[cols[62]].replace(np.NaN,'TA')"
      ],
      "execution_count": 112,
      "outputs": []
    },
    {
      "cell_type": "code",
      "metadata": {
        "colab": {
          "base_uri": "https://localhost:8080/",
          "height": 350
        },
        "id": "3XMcmJ1H0SAd",
        "outputId": "f063dc6a-2484-4474-c61b-f100664ed1e4"
      },
      "source": [
        "sns.countplot(x_data[cols[63]])"
      ],
      "execution_count": 113,
      "outputs": [
        {
          "output_type": "stream",
          "text": [
            "/usr/local/lib/python3.6/dist-packages/seaborn/_decorators.py:43: FutureWarning: Pass the following variable as a keyword arg: x. From version 0.12, the only valid positional argument will be `data`, and passing other arguments without an explicit keyword will result in an error or misinterpretation.\n",
            "  FutureWarning\n"
          ],
          "name": "stderr"
        },
        {
          "output_type": "execute_result",
          "data": {
            "text/plain": [
              "<matplotlib.axes._subplots.AxesSubplot at 0x7efd8f315e48>"
            ]
          },
          "metadata": {
            "tags": []
          },
          "execution_count": 113
        },
        {
          "output_type": "display_data",
          "data": {
            "image/png": "[encoded data removed]",
            "text/plain": [
              "<Figure size 432x288 with 1 Axes>"
            ]
          },
          "metadata": {
            "tags": [],
            "needs_background": "light"
          }
        }
      ]
    },
    {
      "cell_type": "code",
      "metadata": {
        "id": "NigjqWAJ0R9N"
      },
      "source": [
        "x_data[cols[63]]=x_data[cols[63]].replace(np.NaN,'TA')"
      ],
      "execution_count": 114,
      "outputs": []
    },
    {
      "cell_type": "code",
      "metadata": {
        "colab": {
          "base_uri": "https://localhost:8080/",
          "height": 350
        },
        "id": "Tal3cN6j0R64",
        "outputId": "99cfe837-b64b-4371-b849-d5423d4cd61f"
      },
      "source": [
        "sns.countplot(x_data[cols[74]])"
      ],
      "execution_count": 115,
      "outputs": [
        {
          "output_type": "stream",
          "text": [
            "/usr/local/lib/python3.6/dist-packages/seaborn/_decorators.py:43: FutureWarning: Pass the following variable as a keyword arg: x. From version 0.12, the only valid positional argument will be `data`, and passing other arguments without an explicit keyword will result in an error or misinterpretation.\n",
            "  FutureWarning\n"
          ],
          "name": "stderr"
        },
        {
          "output_type": "execute_result",
          "data": {
            "text/plain": [
              "<matplotlib.axes._subplots.AxesSubplot at 0x7efd8f2fa978>"
            ]
          },
          "metadata": {
            "tags": []
          },
          "execution_count": 115
        },
        {
          "output_type": "display_data",
          "data": {
            "image/png": "[encoded data removed]",
            "text/plain": [
              "<Figure size 432x288 with 1 Axes>"
            ]
          },
          "metadata": {
            "tags": [],
            "needs_background": "light"
          }
        }
      ]
    },
    {
      "cell_type": "code",
      "metadata": {
        "id": "ffFmGlR30WIL"
      },
      "source": [
        "x_data[cols[74]]=x_data[cols[74]].replace(np.NaN,'WD')"
      ],
      "execution_count": 116,
      "outputs": []
    },
    {
      "cell_type": "code",
      "metadata": {
        "id": "xaRv0WGZlNcX"
      },
      "source": [
        "a=x_data.isnull().sum()\r\n",
        "for i in range(0,len(a)):\r\n",
        "  if a[i]!=0:\r\n",
        "    print(x_data[cols[i]].dtypes,i,a[i])"
      ],
      "execution_count": 118,
      "outputs": []
    },
    {
      "cell_type": "code",
      "metadata": {
        "colab": {
          "base_uri": "https://localhost:8080/"
        },
        "id": "OpyMPKgKuOnO",
        "outputId": "be6d861e-5d17-49d5-89f4-1581029cd2aa"
      },
      "source": [
        "x_data.shape"
      ],
      "execution_count": 119,
      "outputs": [
        {
          "output_type": "execute_result",
          "data": {
            "text/plain": [
              "(2919, 76)"
            ]
          },
          "metadata": {
            "tags": []
          },
          "execution_count": 119
        }
      ]
    },
    {
      "cell_type": "code",
      "metadata": {
        "colab": {
          "base_uri": "https://localhost:8080/",
          "height": 1000
        },
        "id": "yNF1VIlZczuQ",
        "outputId": "c387147a-929f-49bd-dc2e-00807813da32"
      },
      "source": [
        "x_data.corr()"
      ],
      "execution_count": 120,
      "outputs": [
        {
          "output_type": "execute_result",
          "data": {
            "text/html": [
              "<div>\n",
              "<style scoped>\n",
              "    .dataframe tbody tr th:only-of-type {\n",
              "        vertical-align: middle;\n",
              "    }\n",
              "\n",
              "    .dataframe tbody tr th {\n",
              "        vertical-align: top;\n",
              "    }\n",
              "\n",
              "    .dataframe thead th {\n",
              "        text-align: right;\n",
              "    }\n",
              "</style>\n",
              "<table border=\"1\" class=\"dataframe\">\n",
              "  <thead>\n",
              "    <tr style=\"text-align: right;\">\n",
              "      <th></th>\n",
              "      <th>Id</th>\n",
              "      <th>MSSubClass</th>\n",
              "      <th>LotFrontage</th>\n",
              "      <th>LotArea</th>\n",
              "      <th>OverallQual</th>\n",
              "      <th>OverallCond</th>\n",
              "      <th>YearBuilt</th>\n",
              "      <th>YearRemodAdd</th>\n",
              "      <th>MasVnrArea</th>\n",
              "      <th>BsmtFinSF1</th>\n",
              "      <th>BsmtFinSF2</th>\n",
              "      <th>BsmtUnfSF</th>\n",
              "      <th>TotalBsmtSF</th>\n",
              "      <th>1stFlrSF</th>\n",
              "      <th>2ndFlrSF</th>\n",
              "      <th>LowQualFinSF</th>\n",
              "      <th>GrLivArea</th>\n",
              "      <th>BsmtFullBath</th>\n",
              "      <th>BsmtHalfBath</th>\n",
              "      <th>FullBath</th>\n",
              "      <th>HalfBath</th>\n",
              "      <th>BedroomAbvGr</th>\n",
              "      <th>KitchenAbvGr</th>\n",
              "      <th>TotRmsAbvGrd</th>\n",
              "      <th>Fireplaces</th>\n",
              "      <th>GarageYrBlt</th>\n",
              "      <th>GarageCars</th>\n",
              "      <th>GarageArea</th>\n",
              "      <th>WoodDeckSF</th>\n",
              "      <th>OpenPorchSF</th>\n",
              "      <th>EnclosedPorch</th>\n",
              "      <th>3SsnPorch</th>\n",
              "      <th>ScreenPorch</th>\n",
              "      <th>PoolArea</th>\n",
              "      <th>MiscVal</th>\n",
              "      <th>MoSold</th>\n",
              "      <th>YrSold</th>\n",
              "    </tr>\n",
              "  </thead>\n",
              "  <tbody>\n",
              "    <tr>\n",
              "      <th>Id</th>\n",
              "      <td>1.000000</td>\n",
              "      <td>0.008931</td>\n",
              "      <td>-0.025235</td>\n",
              "      <td>-0.040746</td>\n",
              "      <td>-0.029771</td>\n",
              "      <td>-0.002839</td>\n",
              "      <td>-0.016581</td>\n",
              "      <td>-0.050438</td>\n",
              "      <td>-0.025126</td>\n",
              "      <td>-0.016945</td>\n",
              "      <td>0.018249</td>\n",
              "      <td>-0.014451</td>\n",
              "      <td>-0.024922</td>\n",
              "      <td>-0.008678</td>\n",
              "      <td>-0.022252</td>\n",
              "      <td>-0.037816</td>\n",
              "      <td>-0.029046</td>\n",
              "      <td>0.000145</td>\n",
              "      <td>0.010385</td>\n",
              "      <td>-0.009946</td>\n",
              "      <td>-0.015358</td>\n",
              "      <td>0.003074</td>\n",
              "      <td>-0.011702</td>\n",
              "      <td>-0.029368</td>\n",
              "      <td>-0.035236</td>\n",
              "      <td>-0.025863</td>\n",
              "      <td>-0.010205</td>\n",
              "      <td>-0.008862</td>\n",
              "      <td>-0.007056</td>\n",
              "      <td>0.009960</td>\n",
              "      <td>0.021609</td>\n",
              "      <td>-0.046538</td>\n",
              "      <td>0.022208</td>\n",
              "      <td>0.014332</td>\n",
              "      <td>0.008244</td>\n",
              "      <td>0.006448</td>\n",
              "      <td>-0.256050</td>\n",
              "    </tr>\n",
              "    <tr>\n",
              "      <th>MSSubClass</th>\n",
              "      <td>0.008931</td>\n",
              "      <td>1.000000</td>\n",
              "      <td>-0.390118</td>\n",
              "      <td>-0.201730</td>\n",
              "      <td>0.033638</td>\n",
              "      <td>-0.065625</td>\n",
              "      <td>0.034409</td>\n",
              "      <td>0.043315</td>\n",
              "      <td>0.005422</td>\n",
              "      <td>-0.064302</td>\n",
              "      <td>-0.072520</td>\n",
              "      <td>-0.125978</td>\n",
              "      <td>-0.219936</td>\n",
              "      <td>-0.248641</td>\n",
              "      <td>0.309309</td>\n",
              "      <td>0.026482</td>\n",
              "      <td>0.071677</td>\n",
              "      <td>0.009947</td>\n",
              "      <td>-0.001878</td>\n",
              "      <td>0.139140</td>\n",
              "      <td>0.178750</td>\n",
              "      <td>-0.008796</td>\n",
              "      <td>0.260155</td>\n",
              "      <td>0.040509</td>\n",
              "      <td>-0.055151</td>\n",
              "      <td>0.082790</td>\n",
              "      <td>-0.046596</td>\n",
              "      <td>-0.103392</td>\n",
              "      <td>-0.017654</td>\n",
              "      <td>-0.015923</td>\n",
              "      <td>-0.020867</td>\n",
              "      <td>-0.037529</td>\n",
              "      <td>-0.049181</td>\n",
              "      <td>-0.003080</td>\n",
              "      <td>-0.028867</td>\n",
              "      <td>-0.001231</td>\n",
              "      <td>-0.015028</td>\n",
              "    </tr>\n",
              "    <tr>\n",
              "      <th>LotFrontage</th>\n",
              "      <td>-0.025235</td>\n",
              "      <td>-0.390118</td>\n",
              "      <td>1.000000</td>\n",
              "      <td>0.364382</td>\n",
              "      <td>0.204190</td>\n",
              "      <td>-0.068350</td>\n",
              "      <td>0.116905</td>\n",
              "      <td>0.085608</td>\n",
              "      <td>0.202210</td>\n",
              "      <td>0.203603</td>\n",
              "      <td>0.041396</td>\n",
              "      <td>0.104971</td>\n",
              "      <td>0.331031</td>\n",
              "      <td>0.424147</td>\n",
              "      <td>0.023842</td>\n",
              "      <td>0.004669</td>\n",
              "      <td>0.349484</td>\n",
              "      <td>0.102940</td>\n",
              "      <td>-0.023020</td>\n",
              "      <td>0.164469</td>\n",
              "      <td>0.035572</td>\n",
              "      <td>0.212943</td>\n",
              "      <td>0.004359</td>\n",
              "      <td>0.320863</td>\n",
              "      <td>0.234612</td>\n",
              "      <td>0.070391</td>\n",
              "      <td>0.292086</td>\n",
              "      <td>0.338979</td>\n",
              "      <td>0.106380</td>\n",
              "      <td>0.152160</td>\n",
              "      <td>0.010541</td>\n",
              "      <td>0.025255</td>\n",
              "      <td>0.069348</td>\n",
              "      <td>0.160857</td>\n",
              "      <td>0.035762</td>\n",
              "      <td>0.010337</td>\n",
              "      <td>-0.007265</td>\n",
              "    </tr>\n",
              "    <tr>\n",
              "      <th>LotArea</th>\n",
              "      <td>-0.040746</td>\n",
              "      <td>-0.201730</td>\n",
              "      <td>0.364382</td>\n",
              "      <td>1.000000</td>\n",
              "      <td>0.100541</td>\n",
              "      <td>-0.035617</td>\n",
              "      <td>0.024128</td>\n",
              "      <td>0.021612</td>\n",
              "      <td>0.125354</td>\n",
              "      <td>0.194021</td>\n",
              "      <td>0.084055</td>\n",
              "      <td>0.021361</td>\n",
              "      <td>0.254125</td>\n",
              "      <td>0.332460</td>\n",
              "      <td>0.031515</td>\n",
              "      <td>0.000554</td>\n",
              "      <td>0.284519</td>\n",
              "      <td>0.127862</td>\n",
              "      <td>0.026192</td>\n",
              "      <td>0.125826</td>\n",
              "      <td>0.034244</td>\n",
              "      <td>0.132801</td>\n",
              "      <td>-0.020854</td>\n",
              "      <td>0.213802</td>\n",
              "      <td>0.261185</td>\n",
              "      <td>-0.008564</td>\n",
              "      <td>0.180433</td>\n",
              "      <td>0.213251</td>\n",
              "      <td>0.158045</td>\n",
              "      <td>0.104797</td>\n",
              "      <td>0.020974</td>\n",
              "      <td>0.015995</td>\n",
              "      <td>0.054375</td>\n",
              "      <td>0.093708</td>\n",
              "      <td>0.069029</td>\n",
              "      <td>0.004156</td>\n",
              "      <td>-0.024234</td>\n",
              "    </tr>\n",
              "    <tr>\n",
              "      <th>OverallQual</th>\n",
              "      <td>-0.029771</td>\n",
              "      <td>0.033638</td>\n",
              "      <td>0.204190</td>\n",
              "      <td>0.100541</td>\n",
              "      <td>1.000000</td>\n",
              "      <td>-0.093847</td>\n",
              "      <td>0.597554</td>\n",
              "      <td>0.571532</td>\n",
              "      <td>0.430961</td>\n",
              "      <td>0.281704</td>\n",
              "      <td>-0.042755</td>\n",
              "      <td>0.275072</td>\n",
              "      <td>0.549087</td>\n",
              "      <td>0.479152</td>\n",
              "      <td>0.245596</td>\n",
              "      <td>-0.048393</td>\n",
              "      <td>0.575126</td>\n",
              "      <td>0.164465</td>\n",
              "      <td>-0.040713</td>\n",
              "      <td>0.528483</td>\n",
              "      <td>0.272668</td>\n",
              "      <td>0.073075</td>\n",
              "      <td>-0.159325</td>\n",
              "      <td>0.389761</td>\n",
              "      <td>0.390753</td>\n",
              "      <td>0.544247</td>\n",
              "      <td>0.600682</td>\n",
              "      <td>0.565065</td>\n",
              "      <td>0.255317</td>\n",
              "      <td>0.298084</td>\n",
              "      <td>-0.139256</td>\n",
              "      <td>0.018715</td>\n",
              "      <td>0.042910</td>\n",
              "      <td>0.030740</td>\n",
              "      <td>0.005562</td>\n",
              "      <td>0.030405</td>\n",
              "      <td>-0.019614</td>\n",
              "    </tr>\n",
              "    <tr>\n",
              "      <th>OverallCond</th>\n",
              "      <td>-0.002839</td>\n",
              "      <td>-0.065625</td>\n",
              "      <td>-0.068350</td>\n",
              "      <td>-0.035617</td>\n",
              "      <td>-0.093847</td>\n",
              "      <td>1.000000</td>\n",
              "      <td>-0.368477</td>\n",
              "      <td>0.047654</td>\n",
              "      <td>-0.135752</td>\n",
              "      <td>-0.050403</td>\n",
              "      <td>0.041489</td>\n",
              "      <td>-0.138162</td>\n",
              "      <td>-0.173952</td>\n",
              "      <td>-0.157418</td>\n",
              "      <td>0.005494</td>\n",
              "      <td>0.009048</td>\n",
              "      <td>-0.116569</td>\n",
              "      <td>-0.042109</td>\n",
              "      <td>0.084133</td>\n",
              "      <td>-0.215504</td>\n",
              "      <td>-0.088577</td>\n",
              "      <td>-0.008477</td>\n",
              "      <td>-0.086700</td>\n",
              "      <td>-0.092027</td>\n",
              "      <td>-0.030999</td>\n",
              "      <td>-0.304784</td>\n",
              "      <td>-0.181783</td>\n",
              "      <td>-0.154145</td>\n",
              "      <td>0.020123</td>\n",
              "      <td>-0.068978</td>\n",
              "      <td>0.071044</td>\n",
              "      <td>0.043739</td>\n",
              "      <td>0.043713</td>\n",
              "      <td>-0.016876</td>\n",
              "      <td>0.033956</td>\n",
              "      <td>-0.006256</td>\n",
              "      <td>0.030102</td>\n",
              "    </tr>\n",
              "    <tr>\n",
              "      <th>YearBuilt</th>\n",
              "      <td>-0.016581</td>\n",
              "      <td>0.034409</td>\n",
              "      <td>0.116905</td>\n",
              "      <td>0.024128</td>\n",
              "      <td>0.597554</td>\n",
              "      <td>-0.368477</td>\n",
              "      <td>1.000000</td>\n",
              "      <td>0.612235</td>\n",
              "      <td>0.312579</td>\n",
              "      <td>0.279547</td>\n",
              "      <td>-0.027591</td>\n",
              "      <td>0.130457</td>\n",
              "      <td>0.408466</td>\n",
              "      <td>0.310814</td>\n",
              "      <td>0.017588</td>\n",
              "      <td>-0.144191</td>\n",
              "      <td>0.242666</td>\n",
              "      <td>0.211549</td>\n",
              "      <td>-0.030278</td>\n",
              "      <td>0.471169</td>\n",
              "      <td>0.269743</td>\n",
              "      <td>-0.053101</td>\n",
              "      <td>-0.137614</td>\n",
              "      <td>0.114280</td>\n",
              "      <td>0.170680</td>\n",
              "      <td>0.790032</td>\n",
              "      <td>0.537839</td>\n",
              "      <td>0.480525</td>\n",
              "      <td>0.229426</td>\n",
              "      <td>0.198554</td>\n",
              "      <td>-0.374073</td>\n",
              "      <td>0.015958</td>\n",
              "      <td>-0.041046</td>\n",
              "      <td>0.002304</td>\n",
              "      <td>-0.010886</td>\n",
              "      <td>0.013938</td>\n",
              "      <td>-0.012344</td>\n",
              "    </tr>\n",
              "    <tr>\n",
              "      <th>YearRemodAdd</th>\n",
              "      <td>-0.050438</td>\n",
              "      <td>0.043315</td>\n",
              "      <td>0.085608</td>\n",
              "      <td>0.021612</td>\n",
              "      <td>0.571532</td>\n",
              "      <td>0.047654</td>\n",
              "      <td>0.612235</td>\n",
              "      <td>1.000000</td>\n",
              "      <td>0.196117</td>\n",
              "      <td>0.152056</td>\n",
              "      <td>-0.062125</td>\n",
              "      <td>0.165099</td>\n",
              "      <td>0.297969</td>\n",
              "      <td>0.242245</td>\n",
              "      <td>0.158985</td>\n",
              "      <td>-0.060371</td>\n",
              "      <td>0.316972</td>\n",
              "      <td>0.134878</td>\n",
              "      <td>-0.046261</td>\n",
              "      <td>0.457980</td>\n",
              "      <td>0.211430</td>\n",
              "      <td>-0.021912</td>\n",
              "      <td>-0.142431</td>\n",
              "      <td>0.198250</td>\n",
              "      <td>0.134157</td>\n",
              "      <td>0.627270</td>\n",
              "      <td>0.425985</td>\n",
              "      <td>0.376733</td>\n",
              "      <td>0.218513</td>\n",
              "      <td>0.242182</td>\n",
              "      <td>-0.220456</td>\n",
              "      <td>0.037433</td>\n",
              "      <td>-0.046878</td>\n",
              "      <td>-0.011407</td>\n",
              "      <td>-0.003124</td>\n",
              "      <td>0.017693</td>\n",
              "      <td>0.033203</td>\n",
              "    </tr>\n",
              "    <tr>\n",
              "      <th>MasVnrArea</th>\n",
              "      <td>-0.025126</td>\n",
              "      <td>0.005422</td>\n",
              "      <td>0.202210</td>\n",
              "      <td>0.125354</td>\n",
              "      <td>0.430961</td>\n",
              "      <td>-0.135752</td>\n",
              "      <td>0.312579</td>\n",
              "      <td>0.196117</td>\n",
              "      <td>1.000000</td>\n",
              "      <td>0.301999</td>\n",
              "      <td>-0.015633</td>\n",
              "      <td>0.089712</td>\n",
              "      <td>0.395632</td>\n",
              "      <td>0.393761</td>\n",
              "      <td>0.120454</td>\n",
              "      <td>-0.057910</td>\n",
              "      <td>0.402032</td>\n",
              "      <td>0.141078</td>\n",
              "      <td>0.015001</td>\n",
              "      <td>0.258288</td>\n",
              "      <td>0.190753</td>\n",
              "      <td>0.077887</td>\n",
              "      <td>-0.051206</td>\n",
              "      <td>0.277535</td>\n",
              "      <td>0.274166</td>\n",
              "      <td>0.247714</td>\n",
              "      <td>0.360079</td>\n",
              "      <td>0.372865</td>\n",
              "      <td>0.165839</td>\n",
              "      <td>0.143659</td>\n",
              "      <td>-0.111156</td>\n",
              "      <td>0.013611</td>\n",
              "      <td>0.065188</td>\n",
              "      <td>0.004512</td>\n",
              "      <td>0.044810</td>\n",
              "      <td>-0.000117</td>\n",
              "      <td>-0.018457</td>\n",
              "    </tr>\n",
              "    <tr>\n",
              "      <th>BsmtFinSF1</th>\n",
              "      <td>-0.016945</td>\n",
              "      <td>-0.064302</td>\n",
              "      <td>0.203603</td>\n",
              "      <td>0.194021</td>\n",
              "      <td>0.281704</td>\n",
              "      <td>-0.050403</td>\n",
              "      <td>0.279547</td>\n",
              "      <td>0.152056</td>\n",
              "      <td>0.301999</td>\n",
              "      <td>1.000000</td>\n",
              "      <td>-0.055045</td>\n",
              "      <td>-0.477404</td>\n",
              "      <td>0.536467</td>\n",
              "      <td>0.458056</td>\n",
              "      <td>-0.162284</td>\n",
              "      <td>-0.066028</td>\n",
              "      <td>0.211617</td>\n",
              "      <td>0.638744</td>\n",
              "      <td>0.078349</td>\n",
              "      <td>0.081510</td>\n",
              "      <td>-0.007311</td>\n",
              "      <td>-0.113526</td>\n",
              "      <td>-0.086354</td>\n",
              "      <td>0.052119</td>\n",
              "      <td>0.293046</td>\n",
              "      <td>0.189912</td>\n",
              "      <td>0.255436</td>\n",
              "      <td>0.310403</td>\n",
              "      <td>0.223471</td>\n",
              "      <td>0.124153</td>\n",
              "      <td>-0.099710</td>\n",
              "      <td>0.050908</td>\n",
              "      <td>0.096821</td>\n",
              "      <td>0.084462</td>\n",
              "      <td>0.093295</td>\n",
              "      <td>-0.000942</td>\n",
              "      <td>0.022556</td>\n",
              "    </tr>\n",
              "    <tr>\n",
              "      <th>BsmtFinSF2</th>\n",
              "      <td>0.018249</td>\n",
              "      <td>-0.072520</td>\n",
              "      <td>0.041396</td>\n",
              "      <td>0.084055</td>\n",
              "      <td>-0.042755</td>\n",
              "      <td>0.041489</td>\n",
              "      <td>-0.027591</td>\n",
              "      <td>-0.062125</td>\n",
              "      <td>-0.015633</td>\n",
              "      <td>-0.055045</td>\n",
              "      <td>1.000000</td>\n",
              "      <td>-0.238241</td>\n",
              "      <td>0.089410</td>\n",
              "      <td>0.084323</td>\n",
              "      <td>-0.097734</td>\n",
              "      <td>-0.004923</td>\n",
              "      <td>-0.017867</td>\n",
              "      <td>0.162832</td>\n",
              "      <td>0.099483</td>\n",
              "      <td>-0.075418</td>\n",
              "      <td>-0.032445</td>\n",
              "      <td>-0.031217</td>\n",
              "      <td>-0.037779</td>\n",
              "      <td>-0.048403</td>\n",
              "      <td>0.065615</td>\n",
              "      <td>-0.068100</td>\n",
              "      <td>-0.014824</td>\n",
              "      <td>0.003139</td>\n",
              "      <td>0.098389</td>\n",
              "      <td>-0.005875</td>\n",
              "      <td>0.032739</td>\n",
              "      <td>-0.023279</td>\n",
              "      <td>0.063301</td>\n",
              "      <td>0.044524</td>\n",
              "      <td>-0.005139</td>\n",
              "      <td>-0.009592</td>\n",
              "      <td>0.008883</td>\n",
              "    </tr>\n",
              "    <tr>\n",
              "      <th>BsmtUnfSF</th>\n",
              "      <td>-0.014451</td>\n",
              "      <td>-0.125978</td>\n",
              "      <td>0.104971</td>\n",
              "      <td>0.021361</td>\n",
              "      <td>0.275072</td>\n",
              "      <td>-0.138162</td>\n",
              "      <td>0.130457</td>\n",
              "      <td>0.165099</td>\n",
              "      <td>0.089712</td>\n",
              "      <td>-0.477404</td>\n",
              "      <td>-0.238241</td>\n",
              "      <td>1.000000</td>\n",
              "      <td>0.412285</td>\n",
              "      <td>0.296577</td>\n",
              "      <td>-0.000376</td>\n",
              "      <td>0.046913</td>\n",
              "      <td>0.233931</td>\n",
              "      <td>-0.398567</td>\n",
              "      <td>-0.107091</td>\n",
              "      <td>0.273158</td>\n",
              "      <td>-0.035800</td>\n",
              "      <td>0.183225</td>\n",
              "      <td>0.064987</td>\n",
              "      <td>0.247401</td>\n",
              "      <td>0.004813</td>\n",
              "      <td>0.167133</td>\n",
              "      <td>0.180058</td>\n",
              "      <td>0.164377</td>\n",
              "      <td>-0.039298</td>\n",
              "      <td>0.119753</td>\n",
              "      <td>0.005006</td>\n",
              "      <td>-0.005810</td>\n",
              "      <td>-0.049157</td>\n",
              "      <td>-0.032273</td>\n",
              "      <td>-0.010492</td>\n",
              "      <td>0.022604</td>\n",
              "      <td>-0.038015</td>\n",
              "    </tr>\n",
              "    <tr>\n",
              "      <th>TotalBsmtSF</th>\n",
              "      <td>-0.024922</td>\n",
              "      <td>-0.219936</td>\n",
              "      <td>0.331031</td>\n",
              "      <td>0.254125</td>\n",
              "      <td>0.549087</td>\n",
              "      <td>-0.173952</td>\n",
              "      <td>0.408466</td>\n",
              "      <td>0.297969</td>\n",
              "      <td>0.395632</td>\n",
              "      <td>0.536467</td>\n",
              "      <td>0.089410</td>\n",
              "      <td>0.412285</td>\n",
              "      <td>1.000000</td>\n",
              "      <td>0.801608</td>\n",
              "      <td>-0.205643</td>\n",
              "      <td>-0.023359</td>\n",
              "      <td>0.445167</td>\n",
              "      <td>0.325305</td>\n",
              "      <td>0.012384</td>\n",
              "      <td>0.327703</td>\n",
              "      <td>-0.055713</td>\n",
              "      <td>0.053383</td>\n",
              "      <td>-0.038958</td>\n",
              "      <td>0.282008</td>\n",
              "      <td>0.332904</td>\n",
              "      <td>0.336834</td>\n",
              "      <td>0.437906</td>\n",
              "      <td>0.485984</td>\n",
              "      <td>0.229579</td>\n",
              "      <td>0.245500</td>\n",
              "      <td>-0.085508</td>\n",
              "      <td>0.037892</td>\n",
              "      <td>0.075362</td>\n",
              "      <td>0.072216</td>\n",
              "      <td>0.084001</td>\n",
              "      <td>0.017886</td>\n",
              "      <td>-0.011184</td>\n",
              "    </tr>\n",
              "    <tr>\n",
              "      <th>1stFlrSF</th>\n",
              "      <td>-0.008678</td>\n",
              "      <td>-0.248641</td>\n",
              "      <td>0.424147</td>\n",
              "      <td>0.332460</td>\n",
              "      <td>0.479152</td>\n",
              "      <td>-0.157418</td>\n",
              "      <td>0.310814</td>\n",
              "      <td>0.242245</td>\n",
              "      <td>0.393761</td>\n",
              "      <td>0.458056</td>\n",
              "      <td>0.084323</td>\n",
              "      <td>0.296577</td>\n",
              "      <td>0.801608</td>\n",
              "      <td>1.000000</td>\n",
              "      <td>-0.249823</td>\n",
              "      <td>-0.012704</td>\n",
              "      <td>0.562538</td>\n",
              "      <td>0.259725</td>\n",
              "      <td>0.010985</td>\n",
              "      <td>0.373077</td>\n",
              "      <td>-0.104141</td>\n",
              "      <td>0.108418</td>\n",
              "      <td>0.076071</td>\n",
              "      <td>0.391782</td>\n",
              "      <td>0.407545</td>\n",
              "      <td>0.254059</td>\n",
              "      <td>0.440517</td>\n",
              "      <td>0.491985</td>\n",
              "      <td>0.227347</td>\n",
              "      <td>0.238502</td>\n",
              "      <td>-0.065796</td>\n",
              "      <td>0.044086</td>\n",
              "      <td>0.098381</td>\n",
              "      <td>0.121900</td>\n",
              "      <td>0.093062</td>\n",
              "      <td>0.040143</td>\n",
              "      <td>-0.013442</td>\n",
              "    </tr>\n",
              "    <tr>\n",
              "      <th>2ndFlrSF</th>\n",
              "      <td>-0.022252</td>\n",
              "      <td>0.309309</td>\n",
              "      <td>0.023842</td>\n",
              "      <td>0.031515</td>\n",
              "      <td>0.245596</td>\n",
              "      <td>0.005494</td>\n",
              "      <td>0.017588</td>\n",
              "      <td>0.158985</td>\n",
              "      <td>0.120454</td>\n",
              "      <td>-0.162284</td>\n",
              "      <td>-0.097734</td>\n",
              "      <td>-0.000376</td>\n",
              "      <td>-0.205643</td>\n",
              "      <td>-0.249823</td>\n",
              "      <td>1.000000</td>\n",
              "      <td>0.017803</td>\n",
              "      <td>0.655085</td>\n",
              "      <td>-0.161434</td>\n",
              "      <td>-0.060269</td>\n",
              "      <td>0.402865</td>\n",
              "      <td>0.611362</td>\n",
              "      <td>0.503506</td>\n",
              "      <td>0.069032</td>\n",
              "      <td>0.584586</td>\n",
              "      <td>0.169991</td>\n",
              "      <td>0.084159</td>\n",
              "      <td>0.182401</td>\n",
              "      <td>0.128534</td>\n",
              "      <td>0.089922</td>\n",
              "      <td>0.185387</td>\n",
              "      <td>0.054645</td>\n",
              "      <td>-0.032458</td>\n",
              "      <td>0.011070</td>\n",
              "      <td>0.044503</td>\n",
              "      <td>-0.005299</td>\n",
              "      <td>0.014185</td>\n",
              "      <td>-0.019229</td>\n",
              "    </tr>\n",
              "    <tr>\n",
              "      <th>LowQualFinSF</th>\n",
              "      <td>-0.037816</td>\n",
              "      <td>0.026482</td>\n",
              "      <td>0.004669</td>\n",
              "      <td>0.000554</td>\n",
              "      <td>-0.048393</td>\n",
              "      <td>0.009048</td>\n",
              "      <td>-0.144191</td>\n",
              "      <td>-0.060371</td>\n",
              "      <td>-0.057910</td>\n",
              "      <td>-0.066028</td>\n",
              "      <td>-0.004923</td>\n",
              "      <td>0.046913</td>\n",
              "      <td>-0.023359</td>\n",
              "      <td>-0.012704</td>\n",
              "      <td>0.017803</td>\n",
              "      <td>1.000000</td>\n",
              "      <td>0.096916</td>\n",
              "      <td>-0.047099</td>\n",
              "      <td>-0.013500</td>\n",
              "      <td>-0.002876</td>\n",
              "      <td>-0.039508</td>\n",
              "      <td>0.070365</td>\n",
              "      <td>0.000438</td>\n",
              "      <td>0.102059</td>\n",
              "      <td>-0.006635</td>\n",
              "      <td>-0.045438</td>\n",
              "      <td>-0.067336</td>\n",
              "      <td>-0.053551</td>\n",
              "      <td>-0.015622</td>\n",
              "      <td>-0.000692</td>\n",
              "      <td>0.087212</td>\n",
              "      <td>-0.004545</td>\n",
              "      <td>0.006835</td>\n",
              "      <td>0.035177</td>\n",
              "      <td>-0.005973</td>\n",
              "      <td>0.011528</td>\n",
              "      <td>-0.002257</td>\n",
              "    </tr>\n",
              "    <tr>\n",
              "      <th>GrLivArea</th>\n",
              "      <td>-0.029046</td>\n",
              "      <td>0.071677</td>\n",
              "      <td>0.349484</td>\n",
              "      <td>0.284519</td>\n",
              "      <td>0.575126</td>\n",
              "      <td>-0.116569</td>\n",
              "      <td>0.242666</td>\n",
              "      <td>0.316972</td>\n",
              "      <td>0.402032</td>\n",
              "      <td>0.211617</td>\n",
              "      <td>-0.017867</td>\n",
              "      <td>0.233931</td>\n",
              "      <td>0.445167</td>\n",
              "      <td>0.562538</td>\n",
              "      <td>0.655085</td>\n",
              "      <td>0.096916</td>\n",
              "      <td>1.000000</td>\n",
              "      <td>0.060298</td>\n",
              "      <td>-0.043777</td>\n",
              "      <td>0.630286</td>\n",
              "      <td>0.433548</td>\n",
              "      <td>0.517058</td>\n",
              "      <td>0.117502</td>\n",
              "      <td>0.808354</td>\n",
              "      <td>0.459386</td>\n",
              "      <td>0.264112</td>\n",
              "      <td>0.489898</td>\n",
              "      <td>0.485434</td>\n",
              "      <td>0.251017</td>\n",
              "      <td>0.341907</td>\n",
              "      <td>0.003274</td>\n",
              "      <td>0.006268</td>\n",
              "      <td>0.086284</td>\n",
              "      <td>0.135441</td>\n",
              "      <td>0.067118</td>\n",
              "      <td>0.044198</td>\n",
              "      <td>-0.026919</td>\n",
              "    </tr>\n",
              "    <tr>\n",
              "      <th>BsmtFullBath</th>\n",
              "      <td>0.000145</td>\n",
              "      <td>0.009947</td>\n",
              "      <td>0.102940</td>\n",
              "      <td>0.127862</td>\n",
              "      <td>0.164465</td>\n",
              "      <td>-0.042109</td>\n",
              "      <td>0.211549</td>\n",
              "      <td>0.134878</td>\n",
              "      <td>0.141078</td>\n",
              "      <td>0.638744</td>\n",
              "      <td>0.162832</td>\n",
              "      <td>-0.398567</td>\n",
              "      <td>0.325305</td>\n",
              "      <td>0.259725</td>\n",
              "      <td>-0.161434</td>\n",
              "      <td>-0.047099</td>\n",
              "      <td>0.060298</td>\n",
              "      <td>1.000000</td>\n",
              "      <td>-0.148832</td>\n",
              "      <td>-0.018790</td>\n",
              "      <td>-0.033456</td>\n",
              "      <td>-0.154991</td>\n",
              "      <td>-0.017931</td>\n",
              "      <td>-0.038844</td>\n",
              "      <td>0.169419</td>\n",
              "      <td>0.144870</td>\n",
              "      <td>0.161660</td>\n",
              "      <td>0.184676</td>\n",
              "      <td>0.186072</td>\n",
              "      <td>0.080936</td>\n",
              "      <td>-0.068390</td>\n",
              "      <td>0.027378</td>\n",
              "      <td>0.053117</td>\n",
              "      <td>0.043970</td>\n",
              "      <td>-0.004629</td>\n",
              "      <td>-0.003567</td>\n",
              "      <td>0.045254</td>\n",
              "    </tr>\n",
              "    <tr>\n",
              "      <th>BsmtHalfBath</th>\n",
              "      <td>0.010385</td>\n",
              "      <td>-0.001878</td>\n",
              "      <td>-0.023020</td>\n",
              "      <td>0.026192</td>\n",
              "      <td>-0.040713</td>\n",
              "      <td>0.084133</td>\n",
              "      <td>-0.030278</td>\n",
              "      <td>-0.046261</td>\n",
              "      <td>0.015001</td>\n",
              "      <td>0.078349</td>\n",
              "      <td>0.099483</td>\n",
              "      <td>-0.107091</td>\n",
              "      <td>0.012384</td>\n",
              "      <td>0.010985</td>\n",
              "      <td>-0.060269</td>\n",
              "      <td>-0.013500</td>\n",
              "      <td>-0.043777</td>\n",
              "      <td>-0.148832</td>\n",
              "      <td>1.000000</td>\n",
              "      <td>-0.046984</td>\n",
              "      <td>-0.058417</td>\n",
              "      <td>0.018823</td>\n",
              "      <td>-0.064915</td>\n",
              "      <td>-0.049518</td>\n",
              "      <td>0.039227</td>\n",
              "      <td>-0.056247</td>\n",
              "      <td>-0.033455</td>\n",
              "      <td>-0.021440</td>\n",
              "      <td>0.051539</td>\n",
              "      <td>-0.034775</td>\n",
              "      <td>-0.009675</td>\n",
              "      <td>0.026861</td>\n",
              "      <td>0.042067</td>\n",
              "      <td>0.066851</td>\n",
              "      <td>0.036902</td>\n",
              "      <td>0.023011</td>\n",
              "      <td>-0.020028</td>\n",
              "    </tr>\n",
              "    <tr>\n",
              "      <th>FullBath</th>\n",
              "      <td>-0.009946</td>\n",
              "      <td>0.139140</td>\n",
              "      <td>0.164469</td>\n",
              "      <td>0.125826</td>\n",
              "      <td>0.528483</td>\n",
              "      <td>-0.215504</td>\n",
              "      <td>0.471169</td>\n",
              "      <td>0.457980</td>\n",
              "      <td>0.258288</td>\n",
              "      <td>0.081510</td>\n",
              "      <td>-0.075418</td>\n",
              "      <td>0.273158</td>\n",
              "      <td>0.327703</td>\n",
              "      <td>0.373077</td>\n",
              "      <td>0.402865</td>\n",
              "      <td>-0.002876</td>\n",
              "      <td>0.630286</td>\n",
              "      <td>-0.018790</td>\n",
              "      <td>-0.046984</td>\n",
              "      <td>1.000000</td>\n",
              "      <td>0.158386</td>\n",
              "      <td>0.356125</td>\n",
              "      <td>0.170958</td>\n",
              "      <td>0.527337</td>\n",
              "      <td>0.235927</td>\n",
              "      <td>0.480423</td>\n",
              "      <td>0.479938</td>\n",
              "      <td>0.408444</td>\n",
              "      <td>0.181266</td>\n",
              "      <td>0.260423</td>\n",
              "      <td>-0.118983</td>\n",
              "      <td>0.015192</td>\n",
              "      <td>-0.015910</td>\n",
              "      <td>0.028091</td>\n",
              "      <td>-0.010024</td>\n",
              "      <td>0.046274</td>\n",
              "      <td>-0.004882</td>\n",
              "    </tr>\n",
              "    <tr>\n",
              "      <th>HalfBath</th>\n",
              "      <td>-0.015358</td>\n",
              "      <td>0.178750</td>\n",
              "      <td>0.035572</td>\n",
              "      <td>0.034244</td>\n",
              "      <td>0.272668</td>\n",
              "      <td>-0.088577</td>\n",
              "      <td>0.269743</td>\n",
              "      <td>0.211430</td>\n",
              "      <td>0.190753</td>\n",
              "      <td>-0.007311</td>\n",
              "      <td>-0.032445</td>\n",
              "      <td>-0.035800</td>\n",
              "      <td>-0.055713</td>\n",
              "      <td>-0.104141</td>\n",
              "      <td>0.611362</td>\n",
              "      <td>-0.039508</td>\n",
              "      <td>0.433548</td>\n",
              "      <td>-0.033456</td>\n",
              "      <td>-0.058417</td>\n",
              "      <td>0.158386</td>\n",
              "      <td>1.000000</td>\n",
              "      <td>0.245318</td>\n",
              "      <td>-0.042691</td>\n",
              "      <td>0.345572</td>\n",
              "      <td>0.205876</td>\n",
              "      <td>0.219448</td>\n",
              "      <td>0.234518</td>\n",
              "      <td>0.178975</td>\n",
              "      <td>0.116701</td>\n",
              "      <td>0.182048</td>\n",
              "      <td>-0.081978</td>\n",
              "      <td>-0.023417</td>\n",
              "      <td>0.035622</td>\n",
              "      <td>0.001424</td>\n",
              "      <td>0.026553</td>\n",
              "      <td>-0.001136</td>\n",
              "      <td>0.001587</td>\n",
              "    </tr>\n",
              "    <tr>\n",
              "      <th>BedroomAbvGr</th>\n",
              "      <td>0.003074</td>\n",
              "      <td>-0.008796</td>\n",
              "      <td>0.212943</td>\n",
              "      <td>0.132801</td>\n",
              "      <td>0.073075</td>\n",
              "      <td>-0.008477</td>\n",
              "      <td>-0.053101</td>\n",
              "      <td>-0.021912</td>\n",
              "      <td>0.077887</td>\n",
              "      <td>-0.113526</td>\n",
              "      <td>-0.031217</td>\n",
              "      <td>0.183225</td>\n",
              "      <td>0.053383</td>\n",
              "      <td>0.108418</td>\n",
              "      <td>0.503506</td>\n",
              "      <td>0.070365</td>\n",
              "      <td>0.517058</td>\n",
              "      <td>-0.154991</td>\n",
              "      <td>0.018823</td>\n",
              "      <td>0.356125</td>\n",
              "      <td>0.245318</td>\n",
              "      <td>1.000000</td>\n",
              "      <td>0.241182</td>\n",
              "      <td>0.669737</td>\n",
              "      <td>0.086793</td>\n",
              "      <td>-0.042599</td>\n",
              "      <td>0.092875</td>\n",
              "      <td>0.073912</td>\n",
              "      <td>0.031644</td>\n",
              "      <td>0.086212</td>\n",
              "      <td>0.049940</td>\n",
              "      <td>-0.048279</td>\n",
              "      <td>0.007254</td>\n",
              "      <td>0.036544</td>\n",
              "      <td>0.000245</td>\n",
              "      <td>0.055997</td>\n",
              "      <td>-0.020453</td>\n",
              "    </tr>\n",
              "    <tr>\n",
              "      <th>KitchenAbvGr</th>\n",
              "      <td>-0.011702</td>\n",
              "      <td>0.260155</td>\n",
              "      <td>0.004359</td>\n",
              "      <td>-0.020854</td>\n",
              "      <td>-0.159325</td>\n",
              "      <td>-0.086700</td>\n",
              "      <td>-0.137614</td>\n",
              "      <td>-0.142431</td>\n",
              "      <td>-0.051206</td>\n",
              "      <td>-0.086354</td>\n",
              "      <td>-0.037779</td>\n",
              "      <td>0.064987</td>\n",
              "      <td>-0.038958</td>\n",
              "      <td>0.076071</td>\n",
              "      <td>0.069032</td>\n",
              "      <td>0.000438</td>\n",
              "      <td>0.117502</td>\n",
              "      <td>-0.017931</td>\n",
              "      <td>-0.064915</td>\n",
              "      <td>0.170958</td>\n",
              "      <td>-0.042691</td>\n",
              "      <td>0.241182</td>\n",
              "      <td>1.000000</td>\n",
              "      <td>0.294569</td>\n",
              "      <td>-0.107892</td>\n",
              "      <td>-0.079294</td>\n",
              "      <td>-0.037060</td>\n",
              "      <td>-0.057851</td>\n",
              "      <td>-0.087399</td>\n",
              "      <td>-0.068181</td>\n",
              "      <td>0.027639</td>\n",
              "      <td>-0.021462</td>\n",
              "      <td>-0.056573</td>\n",
              "      <td>-0.013116</td>\n",
              "      <td>0.025078</td>\n",
              "      <td>0.035493</td>\n",
              "      <td>0.035173</td>\n",
              "    </tr>\n",
              "    <tr>\n",
              "      <th>TotRmsAbvGrd</th>\n",
              "      <td>-0.029368</td>\n",
              "      <td>0.040509</td>\n",
              "      <td>0.320863</td>\n",
              "      <td>0.213802</td>\n",
              "      <td>0.389761</td>\n",
              "      <td>-0.092027</td>\n",
              "      <td>0.114280</td>\n",
              "      <td>0.198250</td>\n",
              "      <td>0.277535</td>\n",
              "      <td>0.052119</td>\n",
              "      <td>-0.048403</td>\n",
              "      <td>0.247401</td>\n",
              "      <td>0.282008</td>\n",
              "      <td>0.391782</td>\n",
              "      <td>0.584586</td>\n",
              "      <td>0.102059</td>\n",
              "      <td>0.808354</td>\n",
              "      <td>-0.038844</td>\n",
              "      <td>-0.049518</td>\n",
              "      <td>0.527337</td>\n",
              "      <td>0.345572</td>\n",
              "      <td>0.669737</td>\n",
              "      <td>0.294569</td>\n",
              "      <td>1.000000</td>\n",
              "      <td>0.311260</td>\n",
              "      <td>0.155019</td>\n",
              "      <td>0.358048</td>\n",
              "      <td>0.328682</td>\n",
              "      <td>0.156543</td>\n",
              "      <td>0.238156</td>\n",
              "      <td>0.015345</td>\n",
              "      <td>-0.025764</td>\n",
              "      <td>0.032324</td>\n",
              "      <td>0.072061</td>\n",
              "      <td>0.060903</td>\n",
              "      <td>0.045137</td>\n",
              "      <td>-0.032354</td>\n",
              "    </tr>\n",
              "    <tr>\n",
              "      <th>Fireplaces</th>\n",
              "      <td>-0.035236</td>\n",
              "      <td>-0.055151</td>\n",
              "      <td>0.234612</td>\n",
              "      <td>0.261185</td>\n",
              "      <td>0.390753</td>\n",
              "      <td>-0.030999</td>\n",
              "      <td>0.170680</td>\n",
              "      <td>0.134157</td>\n",
              "      <td>0.274166</td>\n",
              "      <td>0.293046</td>\n",
              "      <td>0.065615</td>\n",
              "      <td>0.004813</td>\n",
              "      <td>0.332904</td>\n",
              "      <td>0.407545</td>\n",
              "      <td>0.169991</td>\n",
              "      <td>-0.006635</td>\n",
              "      <td>0.459386</td>\n",
              "      <td>0.169419</td>\n",
              "      <td>0.039227</td>\n",
              "      <td>0.235927</td>\n",
              "      <td>0.205876</td>\n",
              "      <td>0.086793</td>\n",
              "      <td>-0.107892</td>\n",
              "      <td>0.311260</td>\n",
              "      <td>1.000000</td>\n",
              "      <td>0.087431</td>\n",
              "      <td>0.321635</td>\n",
              "      <td>0.294723</td>\n",
              "      <td>0.227608</td>\n",
              "      <td>0.158621</td>\n",
              "      <td>0.000971</td>\n",
              "      <td>0.018852</td>\n",
              "      <td>0.169784</td>\n",
              "      <td>0.099123</td>\n",
              "      <td>0.008535</td>\n",
              "      <td>0.032352</td>\n",
              "      <td>-0.006752</td>\n",
              "    </tr>\n",
              "    <tr>\n",
              "      <th>GarageYrBlt</th>\n",
              "      <td>-0.025863</td>\n",
              "      <td>0.082790</td>\n",
              "      <td>0.070391</td>\n",
              "      <td>-0.008564</td>\n",
              "      <td>0.544247</td>\n",
              "      <td>-0.304784</td>\n",
              "      <td>0.790032</td>\n",
              "      <td>0.627270</td>\n",
              "      <td>0.247714</td>\n",
              "      <td>0.189912</td>\n",
              "      <td>-0.068100</td>\n",
              "      <td>0.167133</td>\n",
              "      <td>0.336834</td>\n",
              "      <td>0.254059</td>\n",
              "      <td>0.084159</td>\n",
              "      <td>-0.045438</td>\n",
              "      <td>0.264112</td>\n",
              "      <td>0.144870</td>\n",
              "      <td>-0.056247</td>\n",
              "      <td>0.480423</td>\n",
              "      <td>0.219448</td>\n",
              "      <td>-0.042599</td>\n",
              "      <td>-0.079294</td>\n",
              "      <td>0.155019</td>\n",
              "      <td>0.087431</td>\n",
              "      <td>1.000000</td>\n",
              "      <td>0.489430</td>\n",
              "      <td>0.473504</td>\n",
              "      <td>0.219021</td>\n",
              "      <td>0.220746</td>\n",
              "      <td>-0.289795</td>\n",
              "      <td>0.020524</td>\n",
              "      <td>-0.062028</td>\n",
              "      <td>-0.014466</td>\n",
              "      <td>-0.009104</td>\n",
              "      <td>0.023297</td>\n",
              "      <td>-0.004413</td>\n",
              "    </tr>\n",
              "    <tr>\n",
              "      <th>GarageCars</th>\n",
              "      <td>-0.010205</td>\n",
              "      <td>-0.046596</td>\n",
              "      <td>0.292086</td>\n",
              "      <td>0.180433</td>\n",
              "      <td>0.600682</td>\n",
              "      <td>-0.181783</td>\n",
              "      <td>0.537839</td>\n",
              "      <td>0.425985</td>\n",
              "      <td>0.360079</td>\n",
              "      <td>0.255436</td>\n",
              "      <td>-0.014824</td>\n",
              "      <td>0.180058</td>\n",
              "      <td>0.437906</td>\n",
              "      <td>0.440517</td>\n",
              "      <td>0.182401</td>\n",
              "      <td>-0.067336</td>\n",
              "      <td>0.489898</td>\n",
              "      <td>0.161660</td>\n",
              "      <td>-0.033455</td>\n",
              "      <td>0.479938</td>\n",
              "      <td>0.234518</td>\n",
              "      <td>0.092875</td>\n",
              "      <td>-0.037060</td>\n",
              "      <td>0.358048</td>\n",
              "      <td>0.321635</td>\n",
              "      <td>0.489430</td>\n",
              "      <td>1.000000</td>\n",
              "      <td>0.889700</td>\n",
              "      <td>0.240698</td>\n",
              "      <td>0.203527</td>\n",
              "      <td>-0.132649</td>\n",
              "      <td>0.023383</td>\n",
              "      <td>0.043112</td>\n",
              "      <td>0.030424</td>\n",
              "      <td>-0.016934</td>\n",
              "      <td>0.050870</td>\n",
              "      <td>-0.022917</td>\n",
              "    </tr>\n",
              "    <tr>\n",
              "      <th>GarageArea</th>\n",
              "      <td>-0.008862</td>\n",
              "      <td>-0.103392</td>\n",
              "      <td>0.338979</td>\n",
              "      <td>0.213251</td>\n",
              "      <td>0.565065</td>\n",
              "      <td>-0.154145</td>\n",
              "      <td>0.480525</td>\n",
              "      <td>0.376733</td>\n",
              "      <td>0.372865</td>\n",
              "      <td>0.310403</td>\n",
              "      <td>0.003139</td>\n",
              "      <td>0.164377</td>\n",
              "      <td>0.485984</td>\n",
              "      <td>0.491985</td>\n",
              "      <td>0.128534</td>\n",
              "      <td>-0.053551</td>\n",
              "      <td>0.485434</td>\n",
              "      <td>0.184676</td>\n",
              "      <td>-0.021440</td>\n",
              "      <td>0.408444</td>\n",
              "      <td>0.178975</td>\n",
              "      <td>0.073912</td>\n",
              "      <td>-0.057851</td>\n",
              "      <td>0.328682</td>\n",
              "      <td>0.294723</td>\n",
              "      <td>0.473504</td>\n",
              "      <td>0.889700</td>\n",
              "      <td>1.000000</td>\n",
              "      <td>0.238058</td>\n",
              "      <td>0.232539</td>\n",
              "      <td>-0.106259</td>\n",
              "      <td>0.029440</td>\n",
              "      <td>0.062389</td>\n",
              "      <td>0.053049</td>\n",
              "      <td>0.008446</td>\n",
              "      <td>0.040325</td>\n",
              "      <td>-0.013451</td>\n",
              "    </tr>\n",
              "    <tr>\n",
              "      <th>WoodDeckSF</th>\n",
              "      <td>-0.007056</td>\n",
              "      <td>-0.017654</td>\n",
              "      <td>0.106380</td>\n",
              "      <td>0.158045</td>\n",
              "      <td>0.255317</td>\n",
              "      <td>0.020123</td>\n",
              "      <td>0.229426</td>\n",
              "      <td>0.218513</td>\n",
              "      <td>0.165839</td>\n",
              "      <td>0.223471</td>\n",
              "      <td>0.098389</td>\n",
              "      <td>-0.039298</td>\n",
              "      <td>0.229579</td>\n",
              "      <td>0.227347</td>\n",
              "      <td>0.089922</td>\n",
              "      <td>-0.015622</td>\n",
              "      <td>0.251017</td>\n",
              "      <td>0.186072</td>\n",
              "      <td>0.051539</td>\n",
              "      <td>0.181266</td>\n",
              "      <td>0.116701</td>\n",
              "      <td>0.031644</td>\n",
              "      <td>-0.087399</td>\n",
              "      <td>0.156543</td>\n",
              "      <td>0.227608</td>\n",
              "      <td>0.219021</td>\n",
              "      <td>0.240698</td>\n",
              "      <td>0.238058</td>\n",
              "      <td>1.000000</td>\n",
              "      <td>0.038457</td>\n",
              "      <td>-0.119114</td>\n",
              "      <td>-0.003935</td>\n",
              "      <td>-0.052134</td>\n",
              "      <td>0.094231</td>\n",
              "      <td>0.056883</td>\n",
              "      <td>0.018120</td>\n",
              "      <td>-0.000180</td>\n",
              "    </tr>\n",
              "    <tr>\n",
              "      <th>OpenPorchSF</th>\n",
              "      <td>0.009960</td>\n",
              "      <td>-0.015923</td>\n",
              "      <td>0.152160</td>\n",
              "      <td>0.104797</td>\n",
              "      <td>0.298084</td>\n",
              "      <td>-0.068978</td>\n",
              "      <td>0.198554</td>\n",
              "      <td>0.242182</td>\n",
              "      <td>0.143659</td>\n",
              "      <td>0.124153</td>\n",
              "      <td>-0.005875</td>\n",
              "      <td>0.119753</td>\n",
              "      <td>0.245500</td>\n",
              "      <td>0.238502</td>\n",
              "      <td>0.185387</td>\n",
              "      <td>-0.000692</td>\n",
              "      <td>0.341907</td>\n",
              "      <td>0.080936</td>\n",
              "      <td>-0.034775</td>\n",
              "      <td>0.260423</td>\n",
              "      <td>0.182048</td>\n",
              "      <td>0.086212</td>\n",
              "      <td>-0.068181</td>\n",
              "      <td>0.238156</td>\n",
              "      <td>0.158621</td>\n",
              "      <td>0.220746</td>\n",
              "      <td>0.203527</td>\n",
              "      <td>0.232539</td>\n",
              "      <td>0.038457</td>\n",
              "      <td>1.000000</td>\n",
              "      <td>-0.059672</td>\n",
              "      <td>-0.009392</td>\n",
              "      <td>0.047777</td>\n",
              "      <td>0.064212</td>\n",
              "      <td>0.077357</td>\n",
              "      <td>0.034167</td>\n",
              "      <td>-0.037377</td>\n",
              "    </tr>\n",
              "    <tr>\n",
              "      <th>EnclosedPorch</th>\n",
              "      <td>0.021609</td>\n",
              "      <td>-0.020867</td>\n",
              "      <td>0.010541</td>\n",
              "      <td>0.020974</td>\n",
              "      <td>-0.139256</td>\n",
              "      <td>0.071044</td>\n",
              "      <td>-0.374073</td>\n",
              "      <td>-0.220456</td>\n",
              "      <td>-0.111156</td>\n",
              "      <td>-0.099710</td>\n",
              "      <td>0.032739</td>\n",
              "      <td>0.005006</td>\n",
              "      <td>-0.085508</td>\n",
              "      <td>-0.065796</td>\n",
              "      <td>0.054645</td>\n",
              "      <td>0.087212</td>\n",
              "      <td>0.003274</td>\n",
              "      <td>-0.068390</td>\n",
              "      <td>-0.009675</td>\n",
              "      <td>-0.118983</td>\n",
              "      <td>-0.081978</td>\n",
              "      <td>0.049940</td>\n",
              "      <td>0.027639</td>\n",
              "      <td>0.015345</td>\n",
              "      <td>0.000971</td>\n",
              "      <td>-0.289795</td>\n",
              "      <td>-0.132649</td>\n",
              "      <td>-0.106259</td>\n",
              "      <td>-0.119114</td>\n",
              "      <td>-0.059672</td>\n",
              "      <td>1.000000</td>\n",
              "      <td>-0.032822</td>\n",
              "      <td>-0.064377</td>\n",
              "      <td>0.092534</td>\n",
              "      <td>0.008654</td>\n",
              "      <td>-0.020976</td>\n",
              "      <td>-0.001134</td>\n",
              "    </tr>\n",
              "    <tr>\n",
              "      <th>3SsnPorch</th>\n",
              "      <td>-0.046538</td>\n",
              "      <td>-0.037529</td>\n",
              "      <td>0.025255</td>\n",
              "      <td>0.015995</td>\n",
              "      <td>0.018715</td>\n",
              "      <td>0.043739</td>\n",
              "      <td>0.015958</td>\n",
              "      <td>0.037433</td>\n",
              "      <td>0.013611</td>\n",
              "      <td>0.050908</td>\n",
              "      <td>-0.023279</td>\n",
              "      <td>-0.005810</td>\n",
              "      <td>0.037892</td>\n",
              "      <td>0.044086</td>\n",
              "      <td>-0.032458</td>\n",
              "      <td>-0.004545</td>\n",
              "      <td>0.006268</td>\n",
              "      <td>0.027378</td>\n",
              "      <td>0.026861</td>\n",
              "      <td>0.015192</td>\n",
              "      <td>-0.023417</td>\n",
              "      <td>-0.048279</td>\n",
              "      <td>-0.021462</td>\n",
              "      <td>-0.025764</td>\n",
              "      <td>0.018852</td>\n",
              "      <td>0.020524</td>\n",
              "      <td>0.023383</td>\n",
              "      <td>0.029440</td>\n",
              "      <td>-0.003935</td>\n",
              "      <td>-0.009392</td>\n",
              "      <td>-0.032822</td>\n",
              "      <td>1.000000</td>\n",
              "      <td>-0.029546</td>\n",
              "      <td>-0.006525</td>\n",
              "      <td>-0.000788</td>\n",
              "      <td>0.027391</td>\n",
              "      <td>0.022560</td>\n",
              "    </tr>\n",
              "    <tr>\n",
              "      <th>ScreenPorch</th>\n",
              "      <td>0.022208</td>\n",
              "      <td>-0.049181</td>\n",
              "      <td>0.069348</td>\n",
              "      <td>0.054375</td>\n",
              "      <td>0.042910</td>\n",
              "      <td>0.043713</td>\n",
              "      <td>-0.041046</td>\n",
              "      <td>-0.046878</td>\n",
              "      <td>0.065188</td>\n",
              "      <td>0.096821</td>\n",
              "      <td>0.063301</td>\n",
              "      <td>-0.049157</td>\n",
              "      <td>0.075362</td>\n",
              "      <td>0.098381</td>\n",
              "      <td>0.011070</td>\n",
              "      <td>0.006835</td>\n",
              "      <td>0.086284</td>\n",
              "      <td>0.053117</td>\n",
              "      <td>0.042067</td>\n",
              "      <td>-0.015910</td>\n",
              "      <td>0.035622</td>\n",
              "      <td>0.007254</td>\n",
              "      <td>-0.056573</td>\n",
              "      <td>0.032324</td>\n",
              "      <td>0.169784</td>\n",
              "      <td>-0.062028</td>\n",
              "      <td>0.043112</td>\n",
              "      <td>0.062389</td>\n",
              "      <td>-0.052134</td>\n",
              "      <td>0.047777</td>\n",
              "      <td>-0.064377</td>\n",
              "      <td>-0.029546</td>\n",
              "      <td>1.000000</td>\n",
              "      <td>0.026319</td>\n",
              "      <td>0.007067</td>\n",
              "      <td>0.028535</td>\n",
              "      <td>-0.006634</td>\n",
              "    </tr>\n",
              "    <tr>\n",
              "      <th>PoolArea</th>\n",
              "      <td>0.014332</td>\n",
              "      <td>-0.003080</td>\n",
              "      <td>0.160857</td>\n",
              "      <td>0.093708</td>\n",
              "      <td>0.030740</td>\n",
              "      <td>-0.016876</td>\n",
              "      <td>0.002304</td>\n",
              "      <td>-0.011407</td>\n",
              "      <td>0.004512</td>\n",
              "      <td>0.084462</td>\n",
              "      <td>0.044524</td>\n",
              "      <td>-0.032273</td>\n",
              "      <td>0.072216</td>\n",
              "      <td>0.121900</td>\n",
              "      <td>0.044503</td>\n",
              "      <td>0.035177</td>\n",
              "      <td>0.135441</td>\n",
              "      <td>0.043970</td>\n",
              "      <td>0.066851</td>\n",
              "      <td>0.028091</td>\n",
              "      <td>0.001424</td>\n",
              "      <td>0.036544</td>\n",
              "      <td>-0.013116</td>\n",
              "      <td>0.072061</td>\n",
              "      <td>0.099123</td>\n",
              "      <td>-0.014466</td>\n",
              "      <td>0.030424</td>\n",
              "      <td>0.053049</td>\n",
              "      <td>0.094231</td>\n",
              "      <td>0.064212</td>\n",
              "      <td>0.092534</td>\n",
              "      <td>-0.006525</td>\n",
              "      <td>0.026319</td>\n",
              "      <td>1.000000</td>\n",
              "      <td>0.011921</td>\n",
              "      <td>-0.042230</td>\n",
              "      <td>-0.052816</td>\n",
              "    </tr>\n",
              "    <tr>\n",
              "      <th>MiscVal</th>\n",
              "      <td>0.008244</td>\n",
              "      <td>-0.028867</td>\n",
              "      <td>0.035762</td>\n",
              "      <td>0.069029</td>\n",
              "      <td>0.005562</td>\n",
              "      <td>0.033956</td>\n",
              "      <td>-0.010886</td>\n",
              "      <td>-0.003124</td>\n",
              "      <td>0.044810</td>\n",
              "      <td>0.093295</td>\n",
              "      <td>-0.005139</td>\n",
              "      <td>-0.010492</td>\n",
              "      <td>0.084001</td>\n",
              "      <td>0.093062</td>\n",
              "      <td>-0.005299</td>\n",
              "      <td>-0.005973</td>\n",
              "      <td>0.067118</td>\n",
              "      <td>-0.004629</td>\n",
              "      <td>0.036902</td>\n",
              "      <td>-0.010024</td>\n",
              "      <td>0.026553</td>\n",
              "      <td>0.000245</td>\n",
              "      <td>0.025078</td>\n",
              "      <td>0.060903</td>\n",
              "      <td>0.008535</td>\n",
              "      <td>-0.009104</td>\n",
              "      <td>-0.016934</td>\n",
              "      <td>0.008446</td>\n",
              "      <td>0.056883</td>\n",
              "      <td>0.077357</td>\n",
              "      <td>0.008654</td>\n",
              "      <td>-0.000788</td>\n",
              "      <td>0.007067</td>\n",
              "      <td>0.011921</td>\n",
              "      <td>1.000000</td>\n",
              "      <td>0.007443</td>\n",
              "      <td>0.008445</td>\n",
              "    </tr>\n",
              "    <tr>\n",
              "      <th>MoSold</th>\n",
              "      <td>0.006448</td>\n",
              "      <td>-0.001231</td>\n",
              "      <td>0.010337</td>\n",
              "      <td>0.004156</td>\n",
              "      <td>0.030405</td>\n",
              "      <td>-0.006256</td>\n",
              "      <td>0.013938</td>\n",
              "      <td>0.017693</td>\n",
              "      <td>-0.000117</td>\n",
              "      <td>-0.000942</td>\n",
              "      <td>-0.009592</td>\n",
              "      <td>0.022604</td>\n",
              "      <td>0.017886</td>\n",
              "      <td>0.040143</td>\n",
              "      <td>0.014185</td>\n",
              "      <td>0.011528</td>\n",
              "      <td>0.044198</td>\n",
              "      <td>-0.003567</td>\n",
              "      <td>0.023011</td>\n",
              "      <td>0.046274</td>\n",
              "      <td>-0.001136</td>\n",
              "      <td>0.055997</td>\n",
              "      <td>0.035493</td>\n",
              "      <td>0.045137</td>\n",
              "      <td>0.032352</td>\n",
              "      <td>0.023297</td>\n",
              "      <td>0.050870</td>\n",
              "      <td>0.040325</td>\n",
              "      <td>0.018120</td>\n",
              "      <td>0.034167</td>\n",
              "      <td>-0.020976</td>\n",
              "      <td>0.027391</td>\n",
              "      <td>0.028535</td>\n",
              "      <td>-0.042230</td>\n",
              "      <td>0.007443</td>\n",
              "      <td>1.000000</td>\n",
              "      <td>-0.153895</td>\n",
              "    </tr>\n",
              "    <tr>\n",
              "      <th>YrSold</th>\n",
              "      <td>-0.256050</td>\n",
              "      <td>-0.015028</td>\n",
              "      <td>-0.007265</td>\n",
              "      <td>-0.024234</td>\n",
              "      <td>-0.019614</td>\n",
              "      <td>0.030102</td>\n",
              "      <td>-0.012344</td>\n",
              "      <td>0.033203</td>\n",
              "      <td>-0.018457</td>\n",
              "      <td>0.022556</td>\n",
              "      <td>0.008883</td>\n",
              "      <td>-0.038015</td>\n",
              "      <td>-0.011184</td>\n",
              "      <td>-0.013442</td>\n",
              "      <td>-0.019229</td>\n",
              "      <td>-0.002257</td>\n",
              "      <td>-0.026919</td>\n",
              "      <td>0.045254</td>\n",
              "      <td>-0.020028</td>\n",
              "      <td>-0.004882</td>\n",
              "      <td>0.001587</td>\n",
              "      <td>-0.020453</td>\n",
              "      <td>0.035173</td>\n",
              "      <td>-0.032354</td>\n",
              "      <td>-0.006752</td>\n",
              "      <td>-0.004413</td>\n",
              "      <td>-0.022917</td>\n",
              "      <td>-0.013451</td>\n",
              "      <td>-0.000180</td>\n",
              "      <td>-0.037377</td>\n",
              "      <td>-0.001134</td>\n",
              "      <td>0.022560</td>\n",
              "      <td>-0.006634</td>\n",
              "      <td>-0.052816</td>\n",
              "      <td>0.008445</td>\n",
              "      <td>-0.153895</td>\n",
              "      <td>1.000000</td>\n",
              "    </tr>\n",
              "  </tbody>\n",
              "</table>\n",
              "</div>"
            ],
            "text/plain": [
              "                     Id  MSSubClass  LotFrontage  ...   MiscVal    MoSold    YrSold\n",
              "Id             1.000000    0.008931    -0.025235  ...  0.008244  0.006448 -0.256050\n",
              "MSSubClass     0.008931    1.000000    -0.390118  ... -0.028867 -0.001231 -0.015028\n",
              "LotFrontage   -0.025235   -0.390118     1.000000  ...  0.035762  0.010337 -0.007265\n",
              "LotArea       -0.040746   -0.201730     0.364382  ...  0.069029  0.004156 -0.024234\n",
              "OverallQual   -0.029771    0.033638     0.204190  ...  0.005562  0.030405 -0.019614\n",
              "OverallCond   -0.002839   -0.065625    -0.068350  ...  0.033956 -0.006256  0.030102\n",
              "YearBuilt     -0.016581    0.034409     0.116905  ... -0.010886  0.013938 -0.012344\n",
              "YearRemodAdd  -0.050438    0.043315     0.085608  ... -0.003124  0.017693  0.033203\n",
              "MasVnrArea    -0.025126    0.005422     0.202210  ...  0.044810 -0.000117 -0.018457\n",
              "BsmtFinSF1    -0.016945   -0.064302     0.203603  ...  0.093295 -0.000942  0.022556\n",
              "BsmtFinSF2     0.018249   -0.072520     0.041396  ... -0.005139 -0.009592  0.008883\n",
              "BsmtUnfSF     -0.014451   -0.125978     0.104971  ... -0.010492  0.022604 -0.038015\n",
              "TotalBsmtSF   -0.024922   -0.219936     0.331031  ...  0.084001  0.017886 -0.011184\n",
              "1stFlrSF      -0.008678   -0.248641     0.424147  ...  0.093062  0.040143 -0.013442\n",
              "2ndFlrSF      -0.022252    0.309309     0.023842  ... -0.005299  0.014185 -0.019229\n",
              "LowQualFinSF  -0.037816    0.026482     0.004669  ... -0.005973  0.011528 -0.002257\n",
              "GrLivArea     -0.029046    0.071677     0.349484  ...  0.067118  0.044198 -0.026919\n",
              "BsmtFullBath   0.000145    0.009947     0.102940  ... -0.004629 -0.003567  0.045254\n",
              "BsmtHalfBath   0.010385   -0.001878    -0.023020  ...  0.036902  0.023011 -0.020028\n",
              "FullBath      -0.009946    0.139140     0.164469  ... -0.010024  0.046274 -0.004882\n",
              "HalfBath      -0.015358    0.178750     0.035572  ...  0.026553 -0.001136  0.001587\n",
              "BedroomAbvGr   0.003074   -0.008796     0.212943  ...  0.000245  0.055997 -0.020453\n",
              "KitchenAbvGr  -0.011702    0.260155     0.004359  ...  0.025078  0.035493  0.035173\n",
              "TotRmsAbvGrd  -0.029368    0.040509     0.320863  ...  0.060903  0.045137 -0.032354\n",
              "Fireplaces    -0.035236   -0.055151     0.234612  ...  0.008535  0.032352 -0.006752\n",
              "GarageYrBlt   -0.025863    0.082790     0.070391  ... -0.009104  0.023297 -0.004413\n",
              "GarageCars    -0.010205   -0.046596     0.292086  ... -0.016934  0.050870 -0.022917\n",
              "GarageArea    -0.008862   -0.103392     0.338979  ...  0.008446  0.040325 -0.013451\n",
              "WoodDeckSF    -0.007056   -0.017654     0.106380  ...  0.056883  0.018120 -0.000180\n",
              "OpenPorchSF    0.009960   -0.015923     0.152160  ...  0.077357  0.034167 -0.037377\n",
              "EnclosedPorch  0.021609   -0.020867     0.010541  ...  0.008654 -0.020976 -0.001134\n",
              "3SsnPorch     -0.046538   -0.037529     0.025255  ... -0.000788  0.027391  0.022560\n",
              "ScreenPorch    0.022208   -0.049181     0.069348  ...  0.007067  0.028535 -0.006634\n",
              "PoolArea       0.014332   -0.003080     0.160857  ...  0.011921 -0.042230 -0.052816\n",
              "MiscVal        0.008244   -0.028867     0.035762  ...  1.000000  0.007443  0.008445\n",
              "MoSold         0.006448   -0.001231     0.010337  ...  0.007443  1.000000 -0.153895\n",
              "YrSold        -0.256050   -0.015028    -0.007265  ...  0.008445 -0.153895  1.000000\n",
              "\n",
              "[37 rows x 37 columns]"
            ]
          },
          "metadata": {
            "tags": []
          },
          "execution_count": 120
        }
      ]
    },
    {
      "cell_type": "code",
      "metadata": {
        "id": "S_hO4VrfkkqH"
      },
      "source": [
        "new_data=pd.DataFrame({'Id':x_data['Id'],'MSSubClass':x_data['MSSubClass'],'LotFrontage':x_data['LotFrontage'],'LotArea':x_data['LotArea'],'OverallQual':x_data['OverallQual'],'OverallCond':x_data['OverallCond'],\r\n",
        "                       'YearBuilt':x_data['YearBuilt'],'YearRemodAdd':x_data['YearRemodAdd'],'MasVnrArea':x_data['MasVnrArea'],'BsmtFinSF1':x_data['BsmtFinSF1'],'BsmtFinSF2':x_data['BsmtFinSF2'],\r\n",
        "                       'BsmtUnfSF':x_data['BsmtUnfSF'],'TotalBsmtSF':x_data['TotalBsmtSF'],'1stFlrSF':x_data['1stFlrSF'],'2ndFlrSF':x_data['2ndFlrSF'],'LowQualFinSF':x_data['LowQualFinSF'],'GrLivArea':x_data['GrLivArea'],\r\n",
        "                       'BsmtFullBath':x_data['BsmtFullBath'],'BsmtHalfBath':x_data['BsmtHalfBath'],'FullBath':x_data['FullBath'],'HalfBath':x_data['HalfBath'],'BedroomAbvGr':x_data['BedroomAbvGr'],\r\n",
        "                       'KitchenAbvGr':x_data['KitchenAbvGr'],'TotRmsAbvGrd':x_data['TotRmsAbvGrd'],'Fireplaces':x_data['Fireplaces'],'GarageYrBlt':x_data['GarageYrBlt'],\r\n",
        "                       'GarageCars':x_data['GarageCars'],'GarageArea':x_data['GarageArea'],'WoodDeckSF':x_data['WoodDeckSF'],'OpenPorchSF':x_data['OpenPorchSF'],\r\n",
        "                       'EnclosedPorch':x_data['EnclosedPorch'],'3SsnPorch':x_data['3SsnPorch'],'ScreenPorch':x_data['ScreenPorch'],'PoolArea':x_data['PoolArea'],\r\n",
        "                       'MoSold':x_data['MoSold'],'YrSold':x_data['YrSold']})"
      ],
      "execution_count": 121,
      "outputs": []
    },
    {
      "cell_type": "code",
      "metadata": {
        "id": "SQ_ubW41fckM"
      },
      "source": [
        "x_data=x_data.drop(columns=['GarageArea','1stFlrSF','TotRmsAbvGrd'])"
      ],
      "execution_count": 122,
      "outputs": []
    },
    {
      "cell_type": "code",
      "metadata": {
        "id": "og2u4p5sve5Z"
      },
      "source": [
        "cols=x_data.columns\r\n",
        "for i in range(0,len(cols)):\r\n",
        "  if(x_data[cols[i]].dtypes=='object'):\r\n",
        "    a=pd.get_dummies(x_data[cols[i]],drop_first=True)\r\n",
        "    new_data=pd.concat([new_data,a],axis=1)"
      ],
      "execution_count": 123,
      "outputs": []
    },
    {
      "cell_type": "code",
      "metadata": {
        "colab": {
          "base_uri": "https://localhost:8080/"
        },
        "id": "OsbGh2qCnz0G",
        "outputId": "d209987c-8f97-4655-f3e8-dd4adfeeab1b"
      },
      "source": [
        "new_data.shape"
      ],
      "execution_count": 124,
      "outputs": [
        {
          "output_type": "execute_result",
          "data": {
            "text/plain": [
              "(2919, 238)"
            ]
          },
          "metadata": {
            "tags": []
          },
          "execution_count": 124
        }
      ]
    },
    {
      "cell_type": "code",
      "metadata": {
        "id": "K3f3kd2Yq_vW"
      },
      "source": [
        "new_data=new_data.drop(columns=['Id'])"
      ],
      "execution_count": 125,
      "outputs": []
    },
    {
      "cell_type": "code",
      "metadata": {
        "id": "FoXpb-YtgoH8"
      },
      "source": [
        "x_train=new_data[:1460]\r\n",
        "x_test=new_data[1460:]"
      ],
      "execution_count": 128,
      "outputs": []
    },
    {
      "cell_type": "code",
      "metadata": {
        "id": "A0vMl9By279N"
      },
      "source": [
        "y_train=y_data[:1460]"
      ],
      "execution_count": 130,
      "outputs": []
    },
    {
      "cell_type": "code",
      "metadata": {
        "id": "ki05E_hJhz3X"
      },
      "source": [
        "from sklearn.ensemble import RandomForestRegressor\r\n",
        "regressor=RandomForestRegressor()\r\n",
        "regressor.fit(x_train,y_train)\r\n",
        "y_pred=regressor.predict(x_test)"
      ],
      "execution_count": 131,
      "outputs": []
    },
    {
      "cell_type": "code",
      "metadata": {
        "id": "sZzY2NcHpl_X"
      },
      "source": [
        "sample_file=pd.read_csv('/content/sample_submission.csv')"
      ],
      "execution_count": 132,
      "outputs": []
    },
    {
      "cell_type": "code",
      "metadata": {
        "colab": {
          "base_uri": "https://localhost:8080/"
        },
        "id": "obdPJ7a63xUZ",
        "outputId": "2f77164d-e2f5-4873-aff5-e11b80de661f"
      },
      "source": [
        "sample_file.shape"
      ],
      "execution_count": 133,
      "outputs": [
        {
          "output_type": "execute_result",
          "data": {
            "text/plain": [
              "(1459, 2)"
            ]
          },
          "metadata": {
            "tags": []
          },
          "execution_count": 133
        }
      ]
    },
    {
      "cell_type": "code",
      "metadata": {
        "colab": {
          "base_uri": "https://localhost:8080/",
          "height": 195
        },
        "id": "BkaUU_to3zMh",
        "outputId": "a31de19a-af14-41ac-8b93-fc12f91fd90a"
      },
      "source": [
        "submission=pd.DataFrame({'Id':sample_file['Id'],'SalePrice':y_pred})\r\n",
        "submission.head()"
      ],
      "execution_count": 134,
      "outputs": [
        {
          "output_type": "execute_result",
          "data": {
            "text/html": [
              "<div>\n",
              "<style scoped>\n",
              "    .dataframe tbody tr th:only-of-type {\n",
              "        vertical-align: middle;\n",
              "    }\n",
              "\n",
              "    .dataframe tbody tr th {\n",
              "        vertical-align: top;\n",
              "    }\n",
              "\n",
              "    .dataframe thead th {\n",
              "        text-align: right;\n",
              "    }\n",
              "</style>\n",
              "<table border=\"1\" class=\"dataframe\">\n",
              "  <thead>\n",
              "    <tr style=\"text-align: right;\">\n",
              "      <th></th>\n",
              "      <th>Id</th>\n",
              "      <th>SalePrice</th>\n",
              "    </tr>\n",
              "  </thead>\n",
              "  <tbody>\n",
              "    <tr>\n",
              "      <th>0</th>\n",
              "      <td>1461</td>\n",
              "      <td>127151.08</td>\n",
              "    </tr>\n",
              "    <tr>\n",
              "      <th>1</th>\n",
              "      <td>1462</td>\n",
              "      <td>155165.00</td>\n",
              "    </tr>\n",
              "    <tr>\n",
              "      <th>2</th>\n",
              "      <td>1463</td>\n",
              "      <td>174257.33</td>\n",
              "    </tr>\n",
              "    <tr>\n",
              "      <th>3</th>\n",
              "      <td>1464</td>\n",
              "      <td>179771.00</td>\n",
              "    </tr>\n",
              "    <tr>\n",
              "      <th>4</th>\n",
              "      <td>1465</td>\n",
              "      <td>200567.91</td>\n",
              "    </tr>\n",
              "  </tbody>\n",
              "</table>\n",
              "</div>"
            ],
            "text/plain": [
              "     Id  SalePrice\n",
              "0  1461  127151.08\n",
              "1  1462  155165.00\n",
              "2  1463  174257.33\n",
              "3  1464  179771.00\n",
              "4  1465  200567.91"
            ]
          },
          "metadata": {
            "tags": []
          },
          "execution_count": 134
        }
      ]
    },
    {
      "cell_type": "code",
      "metadata": {
        "colab": {
          "base_uri": "https://localhost:8080/"
        },
        "id": "VtE8Fv91336k",
        "outputId": "47fa6960-f601-44a5-e633-76f02dc6f843"
      },
      "source": [
        "filename = 'House Prediction Submmision.csv'\r\n",
        "submission.to_csv(filename,index=False)\r\n",
        "print('Saved file: ' + filename)"
      ],
      "execution_count": 135,
      "outputs": [
        {
          "output_type": "stream",
          "text": [
            "Saved file: House Prediction Submmision.csv\n"
          ],
          "name": "stdout"
        }
      ]
    },
    {
      "cell_type": "code",
      "metadata": {
        "id": "mHfpKR81362v"
      },
      "source": [
        ""
      ],
      "execution_count": null,
      "outputs": []
    }
  ]
}